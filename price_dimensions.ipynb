{
 "cells": [
  {
   "cell_type": "code",
   "execution_count": 1,
   "metadata": {},
   "outputs": [],
   "source": [
    "import pandas as pd #package for reading data\n",
    "import numpy as np \n",
    "import matplotlib.pyplot as plt #package for creating plots"
   ]
  },
  {
   "cell_type": "markdown",
   "metadata": {},
   "source": [
    "Import data into the notebook"
   ]
  },
  {
   "cell_type": "code",
   "execution_count": 2,
   "metadata": {},
   "outputs": [
    {
     "name": "stdout",
     "output_type": "stream",
     "text": [
      "               date  zipcode          rank          page           upc  \\\n",
      "count  2.052900e+04  20529.0  20509.000000  20509.000000  4.104000e+03   \n",
      "mean   1.582557e+12  78722.0      5.590424      1.010629  7.540908e+11   \n",
      "std    2.885633e+09      0.0      6.716571      0.111220  2.507315e+11   \n",
      "min    1.578772e+12  78722.0      0.000000      1.000000  3.463456e+08   \n",
      "25%    1.580156e+12  78722.0      0.000000      1.000000  7.177090e+11   \n",
      "50%    1.581537e+12  78722.0      2.000000      1.000000  8.859112e+11   \n",
      "75%    1.585119e+12  78722.0     11.000000      1.000000  8.859115e+11   \n",
      "max    1.591201e+12  78722.0     20.000000      3.000000  9.979645e+11   \n",
      "\n",
      "              price   list_price      in_stock       max_qty       arrives  \\\n",
      "count  19652.000000  7296.000000  14326.000000  10260.000000  7.247000e+03   \n",
      "mean     137.824103   162.441432      0.757294     16.291131  1.583009e+12   \n",
      "std      143.528278   136.005844      0.428733     11.989490  2.955275e+09   \n",
      "min        5.220000     7.280000      0.000000      1.000000  1.578701e+12   \n",
      "25%       46.400000    62.490000      1.000000     10.000000  1.580501e+12   \n",
      "50%       99.000000   139.000000      1.000000     12.000000  1.582142e+12   \n",
      "75%      178.180000   199.000000      1.000000     30.000000  1.585354e+12   \n",
      "max      999.000000   949.000000      1.000000     80.000000  1.593112e+12   \n",
      "\n",
      "       ...  store_price        weight       reviews        rating  \\\n",
      "count  ...  1242.000000  15067.000000  19463.000000  18881.000000   \n",
      "mean   ...    31.722697     11.925497    453.236860      4.574370   \n",
      "std    ...    16.385265     51.033553    880.324849      0.367959   \n",
      "min    ...    15.000000      0.000000      0.000000      0.000000   \n",
      "25%    ...    19.830000      3.540000     33.000000      4.500000   \n",
      "50%    ...    25.000000      5.000000    141.000000      4.600000   \n",
      "75%    ...    39.880000      8.350000    494.000000      4.718800   \n",
      "max    ...    99.000000   1150.000000   7780.000000      5.000000   \n",
      "\n",
      "          quantity1     quantity2    quantity3  quantity4  quantity5  \\\n",
      "count  14931.000000  1.498500e+04  2203.000000        0.0        0.0   \n",
      "mean     205.626080  8.408095e+04     6.425329        NaN        NaN   \n",
      "std     1172.193476  3.110579e+05     5.211184        NaN        NaN   \n",
      "min        0.000000  0.000000e+00     1.000000        NaN        NaN   \n",
      "25%        4.000000  0.000000e+00     2.000000        NaN        NaN   \n",
      "50%       10.000000  1.000000e+00     5.000000        NaN        NaN   \n",
      "75%       28.000000  1.526200e+04     9.000000        NaN        NaN   \n",
      "max    15968.000000  3.352583e+06    20.000000        NaN        NaN   \n",
      "\n",
      "                ads  \n",
      "count  20509.000000  \n",
      "mean       0.017017  \n",
      "std        0.129337  \n",
      "min        0.000000  \n",
      "25%        0.000000  \n",
      "50%        0.000000  \n",
      "75%        0.000000  \n",
      "max        1.000000  \n",
      "\n",
      "[8 rows x 23 columns]\n"
     ]
    }
   ],
   "source": [
    "data_folder = \"drills_data/\"\n",
    "prices = pd.read_csv(data_folder + \"prices.csv\")\n",
    "print(prices.describe())"
   ]
  },
  {
   "cell_type": "markdown",
   "metadata": {},
   "source": [
    "How many total drills observations are in the data?"
   ]
  },
  {
   "cell_type": "code",
   "execution_count": 4,
   "metadata": {},
   "outputs": [
    {
     "data": {
      "text/plain": [
       "20530"
      ]
     },
     "execution_count": 4,
     "metadata": {},
     "output_type": "execute_result"
    }
   ],
   "source": [
    "len(prices) + 1"
   ]
  },
  {
   "cell_type": "code",
   "execution_count": 56,
   "metadata": {},
   "outputs": [],
   "source": [
    "# concatenate model and manufacturer\n",
    "prices['label'] = prices['manufacturer'].astype(str) + \" \" + prices['model']"
   ]
  },
  {
   "cell_type": "markdown",
   "metadata": {},
   "source": [
    "How many unique drills (i.e. no duplicate entries) for each of the vendors"
   ]
  },
  {
   "cell_type": "code",
   "execution_count": 57,
   "metadata": {},
   "outputs": [
    {
     "data": {
      "text/plain": [
       "platform\n",
       "AMZN    250\n",
       "HD      173\n",
       "LOW     218\n",
       "WMT     144\n",
       "Name: label, dtype: int64"
      ]
     },
     "execution_count": 57,
     "metadata": {},
     "output_type": "execute_result"
    }
   ],
   "source": [
    "prices.groupby('platform')['label'].nunique()"
   ]
  },
  {
   "cell_type": "markdown",
   "metadata": {},
   "source": [
    "What it the drill with the highest number of observation for each of the vendors? "
   ]
  },
  {
   "cell_type": "code",
   "execution_count": 58,
   "metadata": {},
   "outputs": [
    {
     "data": {
      "text/html": [
       "<div>\n",
       "<style scoped>\n",
       "    .dataframe tbody tr th:only-of-type {\n",
       "        vertical-align: middle;\n",
       "    }\n",
       "\n",
       "    .dataframe tbody tr th {\n",
       "        vertical-align: top;\n",
       "    }\n",
       "\n",
       "    .dataframe thead th {\n",
       "        text-align: right;\n",
       "    }\n",
       "</style>\n",
       "<table border=\"1\" class=\"dataframe\">\n",
       "  <thead>\n",
       "    <tr style=\"text-align: right;\">\n",
       "      <th></th>\n",
       "      <th>platform</th>\n",
       "      <th>label</th>\n",
       "      <th>obs</th>\n",
       "    </tr>\n",
       "  </thead>\n",
       "  <tbody>\n",
       "    <tr>\n",
       "      <th>713</th>\n",
       "      <td>WMT</td>\n",
       "      <td>Hyper Tough AQ75034G</td>\n",
       "      <td>153</td>\n",
       "    </tr>\n",
       "    <tr>\n",
       "      <th>376</th>\n",
       "      <td>HD</td>\n",
       "      <td>Milwaukee 2997-22</td>\n",
       "      <td>133</td>\n",
       "    </tr>\n",
       "    <tr>\n",
       "      <th>488</th>\n",
       "      <td>LOW</td>\n",
       "      <td>DEWALT DCD771C2</td>\n",
       "      <td>119</td>\n",
       "    </tr>\n",
       "    <tr>\n",
       "      <th>40</th>\n",
       "      <td>AMZN</td>\n",
       "      <td>BLACK+DECKER DR260C</td>\n",
       "      <td>116</td>\n",
       "    </tr>\n",
       "  </tbody>\n",
       "</table>\n",
       "</div>"
      ],
      "text/plain": [
       "    platform                 label  obs\n",
       "713      WMT  Hyper Tough AQ75034G  153\n",
       "376       HD     Milwaukee 2997-22  133\n",
       "488      LOW       DEWALT DCD771C2  119\n",
       "40      AMZN   BLACK+DECKER DR260C  116"
      ]
     },
     "execution_count": 58,
     "metadata": {},
     "output_type": "execute_result"
    }
   ],
   "source": [
    "new = prices.filter(['platform', 'label'])\n",
    "new['obs'] = \"\"\n",
    "new.groupby(['platform', 'label'], as_index=False)['obs'].count().sort_values('obs', ascending=False)\\\n",
    "            .drop_duplicates('platform')"
   ]
  },
  {
   "cell_type": "markdown",
   "metadata": {},
   "source": [
    "What it the drill with the second highest number of observation for each of the vendors? "
   ]
  },
  {
   "cell_type": "code",
   "execution_count": 59,
   "metadata": {},
   "outputs": [
    {
     "data": {
      "text/html": [
       "<div>\n",
       "<style scoped>\n",
       "    .dataframe tbody tr th:only-of-type {\n",
       "        vertical-align: middle;\n",
       "    }\n",
       "\n",
       "    .dataframe tbody tr th {\n",
       "        vertical-align: top;\n",
       "    }\n",
       "\n",
       "    .dataframe thead th {\n",
       "        text-align: right;\n",
       "    }\n",
       "</style>\n",
       "<table border=\"1\" class=\"dataframe\">\n",
       "  <thead>\n",
       "    <tr style=\"text-align: right;\">\n",
       "      <th></th>\n",
       "      <th>label</th>\n",
       "      <th>obs</th>\n",
       "    </tr>\n",
       "    <tr>\n",
       "      <th>platform</th>\n",
       "      <th></th>\n",
       "      <th></th>\n",
       "    </tr>\n",
       "  </thead>\n",
       "  <tbody>\n",
       "    <tr>\n",
       "      <th>AMZN</th>\n",
       "      <td>Milwaukee 2997-22</td>\n",
       "      <td>112</td>\n",
       "    </tr>\n",
       "    <tr>\n",
       "      <th>HD</th>\n",
       "      <td>Milwaukee 2892-22CT</td>\n",
       "      <td>131</td>\n",
       "    </tr>\n",
       "    <tr>\n",
       "      <th>LOW</th>\n",
       "      <td>BLACK+DECKER LDX120C</td>\n",
       "      <td>117</td>\n",
       "    </tr>\n",
       "    <tr>\n",
       "      <th>WMT</th>\n",
       "      <td>Hyper Tough AQ75023G</td>\n",
       "      <td>149</td>\n",
       "    </tr>\n",
       "  </tbody>\n",
       "</table>\n",
       "</div>"
      ],
      "text/plain": [
       "                         label  obs\n",
       "platform                           \n",
       "AMZN         Milwaukee 2997-22  112\n",
       "HD         Milwaukee 2892-22CT  131\n",
       "LOW       BLACK+DECKER LDX120C  117\n",
       "WMT       Hyper Tough AQ75023G  149"
      ]
     },
     "execution_count": 59,
     "metadata": {},
     "output_type": "execute_result"
    }
   ],
   "source": [
    "new.groupby(['platform', 'label'], as_index=False)['obs'].count().sort_values('obs', ascending=False)\\\n",
    ".drop_duplicates('obs').groupby('platform').nth([1])"
   ]
  },
  {
   "cell_type": "markdown",
   "metadata": {},
   "source": [
    "What is the average number observations for each drill? How does this vary by vendor?"
   ]
  },
  {
   "cell_type": "code",
   "execution_count": 60,
   "metadata": {},
   "outputs": [
    {
     "data": {
      "text/html": [
       "<div>\n",
       "<style scoped>\n",
       "    .dataframe tbody tr th:only-of-type {\n",
       "        vertical-align: middle;\n",
       "    }\n",
       "\n",
       "    .dataframe tbody tr th {\n",
       "        vertical-align: top;\n",
       "    }\n",
       "\n",
       "    .dataframe thead th {\n",
       "        text-align: right;\n",
       "    }\n",
       "</style>\n",
       "<table border=\"1\" class=\"dataframe\">\n",
       "  <thead>\n",
       "    <tr style=\"text-align: right;\">\n",
       "      <th></th>\n",
       "      <th>label</th>\n",
       "      <th>obs</th>\n",
       "    </tr>\n",
       "  </thead>\n",
       "  <tbody>\n",
       "    <tr>\n",
       "      <th>0</th>\n",
       "      <td>ACDelco ARD12126S1</td>\n",
       "      <td>102</td>\n",
       "    </tr>\n",
       "    <tr>\n",
       "      <th>1</th>\n",
       "      <td>ACDelco ARD847 Li-Ion 8-volt Super Compact Dri...</td>\n",
       "      <td>26</td>\n",
       "    </tr>\n",
       "    <tr>\n",
       "      <th>2</th>\n",
       "      <td>Amazon Renewed 11255VSRRT</td>\n",
       "      <td>53</td>\n",
       "    </tr>\n",
       "    <tr>\n",
       "      <th>3</th>\n",
       "      <td>Amazon Renewed 2691-22-cr</td>\n",
       "      <td>25</td>\n",
       "    </tr>\n",
       "    <tr>\n",
       "      <th>4</th>\n",
       "      <td>Amazon Renewed 6335-02-cr</td>\n",
       "      <td>1</td>\n",
       "    </tr>\n",
       "    <tr>\n",
       "      <th>...</th>\n",
       "      <td>...</td>\n",
       "      <td>...</td>\n",
       "    </tr>\n",
       "    <tr>\n",
       "      <th>460</th>\n",
       "      <td>nan PCC621LB</td>\n",
       "      <td>36</td>\n",
       "    </tr>\n",
       "    <tr>\n",
       "      <th>461</th>\n",
       "      <td>nan PCC641LB</td>\n",
       "      <td>23</td>\n",
       "    </tr>\n",
       "    <tr>\n",
       "      <th>462</th>\n",
       "      <td>nan PS22BN</td>\n",
       "      <td>1</td>\n",
       "    </tr>\n",
       "    <tr>\n",
       "      <th>463</th>\n",
       "      <td>nan WH18DGLM</td>\n",
       "      <td>3</td>\n",
       "    </tr>\n",
       "    <tr>\n",
       "      <th>464</th>\n",
       "      <td>nan XC602000</td>\n",
       "      <td>1</td>\n",
       "    </tr>\n",
       "  </tbody>\n",
       "</table>\n",
       "<p>465 rows × 2 columns</p>\n",
       "</div>"
      ],
      "text/plain": [
       "                                                 label  obs\n",
       "0                                   ACDelco ARD12126S1  102\n",
       "1    ACDelco ARD847 Li-Ion 8-volt Super Compact Dri...   26\n",
       "2                            Amazon Renewed 11255VSRRT   53\n",
       "3                            Amazon Renewed 2691-22-cr   25\n",
       "4                            Amazon Renewed 6335-02-cr    1\n",
       "..                                                 ...  ...\n",
       "460                                       nan PCC621LB   36\n",
       "461                                       nan PCC641LB   23\n",
       "462                                         nan PS22BN    1\n",
       "463                                       nan WH18DGLM    3\n",
       "464                                       nan XC602000    1\n",
       "\n",
       "[465 rows x 2 columns]"
      ]
     },
     "execution_count": 60,
     "metadata": {},
     "output_type": "execute_result"
    }
   ],
   "source": [
    "new.groupby(['label'], as_index=False)['obs'].count()"
   ]
  },
  {
   "cell_type": "code",
   "execution_count": 62,
   "metadata": {},
   "outputs": [
    {
     "data": {
      "text/html": [
       "<div>\n",
       "<style scoped>\n",
       "    .dataframe tbody tr th:only-of-type {\n",
       "        vertical-align: middle;\n",
       "    }\n",
       "\n",
       "    .dataframe tbody tr th {\n",
       "        vertical-align: top;\n",
       "    }\n",
       "\n",
       "    .dataframe thead th {\n",
       "        text-align: right;\n",
       "    }\n",
       "</style>\n",
       "<table border=\"1\" class=\"dataframe\">\n",
       "  <thead>\n",
       "    <tr style=\"text-align: right;\">\n",
       "      <th></th>\n",
       "      <th>label</th>\n",
       "      <th>platform</th>\n",
       "      <th>obs</th>\n",
       "    </tr>\n",
       "  </thead>\n",
       "  <tbody>\n",
       "    <tr>\n",
       "      <th>0</th>\n",
       "      <td>ACDelco ARD12126S1</td>\n",
       "      <td>AMZN</td>\n",
       "      <td>50</td>\n",
       "    </tr>\n",
       "    <tr>\n",
       "      <th>425</th>\n",
       "      <td>HYCHIKA BETTER TOOLS FOR BETTER LIFE CK-18BC</td>\n",
       "      <td>AMZN</td>\n",
       "      <td>12</td>\n",
       "    </tr>\n",
       "    <tr>\n",
       "      <th>420</th>\n",
       "      <td>HART HPDD50B</td>\n",
       "      <td>AMZN</td>\n",
       "      <td>47</td>\n",
       "    </tr>\n",
       "    <tr>\n",
       "      <th>417</th>\n",
       "      <td>HART HPCK202B</td>\n",
       "      <td>AMZN</td>\n",
       "      <td>4</td>\n",
       "    </tr>\n",
       "    <tr>\n",
       "      <th>415</th>\n",
       "      <td>Genesis GCD18BK</td>\n",
       "      <td>AMZN</td>\n",
       "      <td>2</td>\n",
       "    </tr>\n",
       "    <tr>\n",
       "      <th>...</th>\n",
       "      <td>...</td>\n",
       "      <td>...</td>\n",
       "      <td>...</td>\n",
       "    </tr>\n",
       "    <tr>\n",
       "      <th>625</th>\n",
       "      <td>SKIL 6445-04</td>\n",
       "      <td>WMT</td>\n",
       "      <td>141</td>\n",
       "    </tr>\n",
       "    <tr>\n",
       "      <th>43</th>\n",
       "      <td>BLACK+DECKER BD2KITCDDI</td>\n",
       "      <td>WMT</td>\n",
       "      <td>10</td>\n",
       "    </tr>\n",
       "    <tr>\n",
       "      <th>391</th>\n",
       "      <td>DEWALT DWD115K</td>\n",
       "      <td>WMT</td>\n",
       "      <td>1</td>\n",
       "    </tr>\n",
       "    <tr>\n",
       "      <th>678</th>\n",
       "      <td>WORX WX176L</td>\n",
       "      <td>WMT</td>\n",
       "      <td>89</td>\n",
       "    </tr>\n",
       "    <tr>\n",
       "      <th>380</th>\n",
       "      <td>DEWALT DW235G</td>\n",
       "      <td>WMT</td>\n",
       "      <td>1</td>\n",
       "    </tr>\n",
       "  </tbody>\n",
       "</table>\n",
       "<p>785 rows × 3 columns</p>\n",
       "</div>"
      ],
      "text/plain": [
       "                                            label platform  obs\n",
       "0                              ACDelco ARD12126S1     AMZN   50\n",
       "425  HYCHIKA BETTER TOOLS FOR BETTER LIFE CK-18BC     AMZN   12\n",
       "420                                  HART HPDD50B     AMZN   47\n",
       "417                                 HART HPCK202B     AMZN    4\n",
       "415                               Genesis GCD18BK     AMZN    2\n",
       "..                                            ...      ...  ...\n",
       "625                                  SKIL 6445-04      WMT  141\n",
       "43                        BLACK+DECKER BD2KITCDDI      WMT   10\n",
       "391                                DEWALT DWD115K      WMT    1\n",
       "678                                   WORX WX176L      WMT   89\n",
       "380                                 DEWALT DW235G      WMT    1\n",
       "\n",
       "[785 rows x 3 columns]"
      ]
     },
     "execution_count": 62,
     "metadata": {},
     "output_type": "execute_result"
    }
   ],
   "source": [
    "new.groupby(['label', 'platform'], as_index=False)['obs'].count().sort_values(\"platform\")"
   ]
  },
  {
   "cell_type": "code",
   "execution_count": null,
   "metadata": {},
   "outputs": [],
   "source": []
  }
 ],
 "metadata": {
  "kernelspec": {
   "display_name": "Python 3",
   "language": "python",
   "name": "python3"
  },
  "language_info": {
   "codemirror_mode": {
    "name": "ipython",
    "version": 3
   },
   "file_extension": ".py",
   "mimetype": "text/x-python",
   "name": "python",
   "nbconvert_exporter": "python",
   "pygments_lexer": "ipython3",
   "version": "3.8.3"
  }
 },
 "nbformat": 4,
 "nbformat_minor": 2
}
