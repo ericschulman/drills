{
 "cells": [
  {
   "cell_type": "code",
   "execution_count": 26,
   "metadata": {},
   "outputs": [],
   "source": [
    "import pandas as pd #package for reading data\n",
    "import numpy as np \n",
    "import matplotlib.pyplot as plt #package for creating plots"
   ]
  },
  {
   "cell_type": "markdown",
   "metadata": {},
   "source": [
    "Import data into the notebook"
   ]
  },
  {
   "cell_type": "code",
   "execution_count": 27,
   "metadata": {},
   "outputs": [
    {
     "name": "stdout",
     "output_type": "stream",
     "text": [
      "Index(['platform', 'website', 'date', 'zipcode', 'rank', 'page', 'query',\n",
      "       'prod_id', 'upc', 'product', 'manufacturer', 'model', 'price',\n",
      "       'list_price', 'in_stock', 'max_qty', 'seller', 'arrives', 'shipping',\n",
      "       'shipping_price', 'shipping_options', 'store_stock', 'store_address',\n",
      "       'store_zip', 'store_price', 'weight', 'reviews', 'rating', 'quantity1',\n",
      "       'quantity2', 'quantity3', 'quantity4', 'quantity5', 'ads', 'calc_rank',\n",
      "       'calc_inven', 'calc_promo', 'calc_ship', 'calc_purch'],\n",
      "      dtype='object')\n"
     ]
    }
   ],
   "source": [
    "data_folder = \"drills_data/\"\n",
    "prices = pd.read_csv(data_folder + \"clean_prices.csv\")\n",
    "print(prices.columns)"
   ]
  },
  {
   "cell_type": "markdown",
   "metadata": {},
   "source": [
    "How many unique models of drill are in the data?"
   ]
  },
  {
   "cell_type": "code",
   "execution_count": 28,
   "metadata": {},
   "outputs": [],
   "source": [
    "prices['label'] = prices['manufacturer'].astype(str) + \" \" + prices['model']"
   ]
  },
  {
   "cell_type": "code",
   "execution_count": 29,
   "metadata": {},
   "outputs": [
    {
     "data": {
      "text/plain": [
       "465"
      ]
     },
     "execution_count": 29,
     "metadata": {},
     "output_type": "execute_result"
    }
   ],
   "source": [
    "prices['label'].nunique()"
   ]
  },
  {
   "cell_type": "code",
   "execution_count": 30,
   "metadata": {},
   "outputs": [
    {
     "data": {
      "text/plain": [
       "platform\n",
       "AMZN    250\n",
       "HD      173\n",
       "LOW     218\n",
       "WMT     144\n",
       "Name: label, dtype: int64"
      ]
     },
     "execution_count": 30,
     "metadata": {},
     "output_type": "execute_result"
    }
   ],
   "source": [
    "prices.groupby('platform')['label'].nunique()"
   ]
  },
  {
   "cell_type": "markdown",
   "metadata": {},
   "source": [
    "How many unique manufacturers of drills are in the data? "
   ]
  },
  {
   "cell_type": "code",
   "execution_count": 31,
   "metadata": {},
   "outputs": [
    {
     "data": {
      "text/plain": [
       "108"
      ]
     },
     "execution_count": 31,
     "metadata": {},
     "output_type": "execute_result"
    }
   ],
   "source": [
    "prices['manufacturer'].nunique()"
   ]
  },
  {
   "cell_type": "code",
   "execution_count": 32,
   "metadata": {},
   "outputs": [
    {
     "data": {
      "text/plain": [
       "platform\n",
       "AMZN    66\n",
       "HD      28\n",
       "LOW     21\n",
       "WMT     49\n",
       "Name: manufacturer, dtype: int64"
      ]
     },
     "execution_count": 32,
     "metadata": {},
     "output_type": "execute_result"
    }
   ],
   "source": [
    "prices.groupby('platform')['manufacturer'].nunique()"
   ]
  },
  {
   "cell_type": "markdown",
   "metadata": {},
   "source": [
    "Are adds/promotions correlated with the rankings? Create a scatter plot with the two variables."
   ]
  },
  {
   "cell_type": "code",
   "execution_count": 66,
   "metadata": {},
   "outputs": [],
   "source": [
    "price_ads = prices.groupby('label')['ads'].mean()\n",
    "price_ads = price_ads[price_ads >0].index\n",
    "ads_select = np.zeros(len(prices),dtype=bool)\n",
    "for label in price_ads:\n",
    "    ads_select =  (prices['label']==label) | ads_select\n",
    "prices_ads = prices[ads_select]"
   ]
  },
  {
   "cell_type": "code",
   "execution_count": 67,
   "metadata": {},
   "outputs": [
    {
     "data": {
      "text/plain": [
       "0.0612"
      ]
     },
     "execution_count": 67,
     "metadata": {},
     "output_type": "execute_result"
    }
   ],
   "source": [
    "# correlation\n",
    "round(prices_ads['calc_rank'].corr(prices_ads['ads']), 4)"
   ]
  },
  {
   "cell_type": "code",
   "execution_count": 69,
   "metadata": {},
   "outputs": [
    {
     "data": {
      "text/plain": [
       "<matplotlib.collections.PathCollection at 0x7f43b1f3df90>"
      ]
     },
     "execution_count": 69,
     "metadata": {},
     "output_type": "execute_result"
    },
    {
     "data": {
      "image/png": "[encoded data removed]",
      "text/plain": [
       "<Figure size 432x288 with 1 Axes>"
      ]
     },
     "metadata": {
      "needs_background": "light"
     },
     "output_type": "display_data"
    }
   ],
   "source": [
    "# scatterplot\n",
    "plt.scatter(prices_ads['calc_rank'], prices_ads['ads'],alpha=.05)"
   ]
  },
  {
   "cell_type": "markdown",
   "metadata": {},
   "source": [
    "How do average prices differ between products that are sponsored/advertised in the search results versus products that are not. i.e. report the average price for products that are advertised against those that are not."
   ]
  },
  {
   "cell_type": "code",
   "execution_count": 73,
   "metadata": {},
   "outputs": [
    {
     "data": {
      "text/html": [
       "<div>\n",
       "<style scoped>\n",
       "    .dataframe tbody tr th:only-of-type {\n",
       "        vertical-align: middle;\n",
       "    }\n",
       "\n",
       "    .dataframe tbody tr th {\n",
       "        vertical-align: top;\n",
       "    }\n",
       "\n",
       "    .dataframe thead th {\n",
       "        text-align: right;\n",
       "    }\n",
       "</style>\n",
       "<table border=\"1\" class=\"dataframe\">\n",
       "  <thead>\n",
       "    <tr style=\"text-align: right;\">\n",
       "      <th></th>\n",
       "      <th>price</th>\n",
       "    </tr>\n",
       "    <tr>\n",
       "      <th>ads</th>\n",
       "      <th></th>\n",
       "    </tr>\n",
       "  </thead>\n",
       "  <tbody>\n",
       "    <tr>\n",
       "      <td>0.0</td>\n",
       "      <td>139.014312</td>\n",
       "    </tr>\n",
       "    <tr>\n",
       "      <td>1.0</td>\n",
       "      <td>71.306791</td>\n",
       "    </tr>\n",
       "  </tbody>\n",
       "</table>\n",
       "</div>"
      ],
      "text/plain": [
       "          price\n",
       "ads            \n",
       "0.0  139.014312\n",
       "1.0   71.306791"
      ]
     },
     "execution_count": 73,
     "metadata": {},
     "output_type": "execute_result"
    }
   ],
   "source": [
    "avg_price_ads = pd.DataFrame(prices.groupby('ads')['price'].mean())\n",
    "avg_price_ads"
   ]
  },
  {
   "cell_type": "code",
   "execution_count": 74,
   "metadata": {},
   "outputs": [
    {
     "data": {
      "text/html": [
       "<div>\n",
       "<style scoped>\n",
       "    .dataframe tbody tr th:only-of-type {\n",
       "        vertical-align: middle;\n",
       "    }\n",
       "\n",
       "    .dataframe tbody tr th {\n",
       "        vertical-align: top;\n",
       "    }\n",
       "\n",
       "    .dataframe thead th {\n",
       "        text-align: right;\n",
       "    }\n",
       "</style>\n",
       "<table border=\"1\" class=\"dataframe\">\n",
       "  <thead>\n",
       "    <tr style=\"text-align: right;\">\n",
       "      <th></th>\n",
       "      <th>price</th>\n",
       "    </tr>\n",
       "    <tr>\n",
       "      <th>ads</th>\n",
       "      <th></th>\n",
       "    </tr>\n",
       "  </thead>\n",
       "  <tbody>\n",
       "    <tr>\n",
       "      <td>0.0</td>\n",
       "      <td>143.025531</td>\n",
       "    </tr>\n",
       "    <tr>\n",
       "      <td>1.0</td>\n",
       "      <td>75.429021</td>\n",
       "    </tr>\n",
       "  </tbody>\n",
       "</table>\n",
       "</div>"
      ],
      "text/plain": [
       "          price\n",
       "ads            \n",
       "0.0  143.025531\n",
       "1.0   75.429021"
      ]
     },
     "execution_count": 74,
     "metadata": {},
     "output_type": "execute_result"
    }
   ],
   "source": [
    "avg_price_ads = pd.DataFrame(prices_ads.groupby('ads')['price'].mean())\n",
    "avg_price_ads"
   ]
  },
  {
   "cell_type": "markdown",
   "metadata": {},
   "source": [
    "If a product stops being sponsored, does the price change?"
   ]
  },
  {
   "cell_type": "code",
   "execution_count": 72,
   "metadata": {},
   "outputs": [
    {
     "data": {
      "text/plain": [
       "price    67.59651\n",
       "dtype: float64"
      ]
     },
     "execution_count": 72,
     "metadata": {},
     "output_type": "execute_result"
    }
   ],
   "source": [
    "avg_price_ads.iloc[0].subtract(avg_price_ads.iloc[1])"
   ]
  },
  {
   "cell_type": "markdown",
   "metadata": {},
   "source": [
    "Create a variance, covariance matrix, separate for each platform, for the following variables:\n",
    "* Weight\n",
    "* Reviews\n",
    "* Rating\n",
    "* Rank\n",
    "* Price"
   ]
  },
  {
   "cell_type": "code",
   "execution_count": 23,
   "metadata": {},
   "outputs": [
    {
     "data": {
      "text/plain": [
       "weight        11.925497\n",
       "reviews      453.236860\n",
       "rating         4.574370\n",
       "calc_rank     15.392608\n",
       "price        137.824103\n",
       "calc_ship      3.837644\n",
       "dtype: float64"
      ]
     },
     "execution_count": 23,
     "metadata": {},
     "output_type": "execute_result"
    }
   ],
   "source": [
    "prices[['weight', 'reviews', 'rating', 'calc_rank', 'price','calc_ship']].mean()"
   ]
  },
  {
   "cell_type": "code",
   "execution_count": 24,
   "metadata": {},
   "outputs": [
    {
     "data": {
      "text/plain": [
       "weight       1150.0\n",
       "reviews      7780.0\n",
       "rating          5.0\n",
       "calc_rank      21.0\n",
       "price         999.0\n",
       "calc_ship       7.0\n",
       "dtype: float64"
      ]
     },
     "execution_count": 24,
     "metadata": {},
     "output_type": "execute_result"
    }
   ],
   "source": [
    "prices[['weight', 'reviews', 'rating', 'calc_rank', 'price','calc_ship']].max()"
   ]
  },
  {
   "cell_type": "code",
   "execution_count": 15,
   "metadata": {},
   "outputs": [
    {
     "data": {
      "text/html": [
       "<div>\n",
       "<style scoped>\n",
       "    .dataframe tbody tr th:only-of-type {\n",
       "        vertical-align: middle;\n",
       "    }\n",
       "\n",
       "    .dataframe tbody tr th {\n",
       "        vertical-align: top;\n",
       "    }\n",
       "\n",
       "    .dataframe thead th {\n",
       "        text-align: right;\n",
       "    }\n",
       "</style>\n",
       "<table border=\"1\" class=\"dataframe\">\n",
       "  <thead>\n",
       "    <tr style=\"text-align: right;\">\n",
       "      <th></th>\n",
       "      <th>weight</th>\n",
       "      <th>reviews</th>\n",
       "      <th>rating</th>\n",
       "      <th>calc_rank</th>\n",
       "      <th>price</th>\n",
       "      <th>calc_ship</th>\n",
       "    </tr>\n",
       "  </thead>\n",
       "  <tbody>\n",
       "    <tr>\n",
       "      <td>weight</td>\n",
       "      <td>2604.423543</td>\n",
       "      <td>-2177.917210</td>\n",
       "      <td>-1.386643</td>\n",
       "      <td>-6.774162</td>\n",
       "      <td>2985.016447</td>\n",
       "      <td>17.859732</td>\n",
       "    </tr>\n",
       "    <tr>\n",
       "      <td>reviews</td>\n",
       "      <td>-2177.917210</td>\n",
       "      <td>774971.840514</td>\n",
       "      <td>20.603209</td>\n",
       "      <td>-1479.492667</td>\n",
       "      <td>-4733.282367</td>\n",
       "      <td>-464.236932</td>\n",
       "    </tr>\n",
       "    <tr>\n",
       "      <td>rating</td>\n",
       "      <td>-1.386643</td>\n",
       "      <td>20.603209</td>\n",
       "      <td>0.135394</td>\n",
       "      <td>-0.035587</td>\n",
       "      <td>-0.350495</td>\n",
       "      <td>-0.110205</td>\n",
       "    </tr>\n",
       "    <tr>\n",
       "      <td>calc_rank</td>\n",
       "      <td>-6.774162</td>\n",
       "      <td>-1479.492667</td>\n",
       "      <td>-0.035587</td>\n",
       "      <td>45.278658</td>\n",
       "      <td>-40.329812</td>\n",
       "      <td>0.142250</td>\n",
       "    </tr>\n",
       "    <tr>\n",
       "      <td>price</td>\n",
       "      <td>2985.016447</td>\n",
       "      <td>-4733.282367</td>\n",
       "      <td>-0.350495</td>\n",
       "      <td>-40.329812</td>\n",
       "      <td>20600.366505</td>\n",
       "      <td>3.681368</td>\n",
       "    </tr>\n",
       "    <tr>\n",
       "      <td>calc_ship</td>\n",
       "      <td>17.859732</td>\n",
       "      <td>-464.236932</td>\n",
       "      <td>-0.110205</td>\n",
       "      <td>0.142250</td>\n",
       "      <td>3.681368</td>\n",
       "      <td>5.834951</td>\n",
       "    </tr>\n",
       "  </tbody>\n",
       "</table>\n",
       "</div>"
      ],
      "text/plain": [
       "                weight        reviews     rating    calc_rank         price  \\\n",
       "weight     2604.423543   -2177.917210  -1.386643    -6.774162   2985.016447   \n",
       "reviews   -2177.917210  774971.840514  20.603209 -1479.492667  -4733.282367   \n",
       "rating       -1.386643      20.603209   0.135394    -0.035587     -0.350495   \n",
       "calc_rank    -6.774162   -1479.492667  -0.035587    45.278658    -40.329812   \n",
       "price      2985.016447   -4733.282367  -0.350495   -40.329812  20600.366505   \n",
       "calc_ship    17.859732    -464.236932  -0.110205     0.142250      3.681368   \n",
       "\n",
       "            calc_ship  \n",
       "weight      17.859732  \n",
       "reviews   -464.236932  \n",
       "rating      -0.110205  \n",
       "calc_rank    0.142250  \n",
       "price        3.681368  \n",
       "calc_ship    5.834951  "
      ]
     },
     "execution_count": 15,
     "metadata": {},
     "output_type": "execute_result"
    }
   ],
   "source": [
    "prices[['weight', 'reviews', 'rating', 'calc_rank', 'price','calc_ship']].cov()"
   ]
  },
  {
   "cell_type": "code",
   "execution_count": null,
   "metadata": {},
   "outputs": [],
   "source": []
  }
 ],
 "metadata": {
  "kernelspec": {
   "display_name": "Python 3",
   "language": "python",
   "name": "python3"
  },
  "language_info": {
   "codemirror_mode": {
    "name": "ipython",
    "version": 3
   },
   "file_extension": ".py",
   "mimetype": "text/x-python",
   "name": "python",
   "nbconvert_exporter": "python",
   "pygments_lexer": "ipython3",
   "version": "3.7.4"
  }
 },
 "nbformat": 4,
 "nbformat_minor": 2
}
