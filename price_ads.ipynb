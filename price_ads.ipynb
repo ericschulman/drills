{
 "cells": [
  {
   "cell_type": "code",
   "execution_count": 1,
   "metadata": {},
   "outputs": [],
   "source": [
    "import pandas as pd #package for reading data\n",
    "import numpy as np \n",
    "import matplotlib.pyplot as plt #package for creating plots"
   ]
  },
  {
   "cell_type": "markdown",
   "metadata": {},
   "source": [
    "Import data into the notebook"
   ]
  },
  {
   "cell_type": "code",
   "execution_count": 2,
   "metadata": {},
   "outputs": [
    {
     "name": "stdout",
     "output_type": "stream",
     "text": [
      "               date  zipcode          rank          page           upc  \\\n",
      "count  2.052900e+04  20529.0  20509.000000  20509.000000  4.104000e+03   \n",
      "mean   1.582557e+12  78722.0      5.590424      1.010629  7.540908e+11   \n",
      "std    2.885633e+09      0.0      6.716571      0.111220  2.507315e+11   \n",
      "min    1.578772e+12  78722.0      0.000000      1.000000  3.463456e+08   \n",
      "25%    1.580156e+12  78722.0      0.000000      1.000000  7.177090e+11   \n",
      "50%    1.581537e+12  78722.0      2.000000      1.000000  8.859112e+11   \n",
      "75%    1.585119e+12  78722.0     11.000000      1.000000  8.859115e+11   \n",
      "max    1.591201e+12  78722.0     20.000000      3.000000  9.979645e+11   \n",
      "\n",
      "              price   list_price      in_stock       max_qty       arrives  \\\n",
      "count  19652.000000  7296.000000  14326.000000  10260.000000  7.247000e+03   \n",
      "mean     137.824103   162.441432      0.757294     16.291131  1.583009e+12   \n",
      "std      143.528278   136.005844      0.428733     11.989490  2.955275e+09   \n",
      "min        5.220000     7.280000      0.000000      1.000000  1.578701e+12   \n",
      "25%       46.400000    62.490000      1.000000     10.000000  1.580501e+12   \n",
      "50%       99.000000   139.000000      1.000000     12.000000  1.582142e+12   \n",
      "75%      178.180000   199.000000      1.000000     30.000000  1.585354e+12   \n",
      "max      999.000000   949.000000      1.000000     80.000000  1.593112e+12   \n",
      "\n",
      "       ...  store_price        weight       reviews        rating  \\\n",
      "count  ...  1242.000000  15067.000000  19463.000000  18881.000000   \n",
      "mean   ...    31.722697     11.925497    453.236860      4.574370   \n",
      "std    ...    16.385265     51.033553    880.324849      0.367959   \n",
      "min    ...    15.000000      0.000000      0.000000      0.000000   \n",
      "25%    ...    19.830000      3.540000     33.000000      4.500000   \n",
      "50%    ...    25.000000      5.000000    141.000000      4.600000   \n",
      "75%    ...    39.880000      8.350000    494.000000      4.718800   \n",
      "max    ...    99.000000   1150.000000   7780.000000      5.000000   \n",
      "\n",
      "          quantity1     quantity2    quantity3  quantity4  quantity5  \\\n",
      "count  14931.000000  1.498500e+04  2203.000000        0.0        0.0   \n",
      "mean     205.626080  8.408095e+04     6.425329        NaN        NaN   \n",
      "std     1172.193476  3.110579e+05     5.211184        NaN        NaN   \n",
      "min        0.000000  0.000000e+00     1.000000        NaN        NaN   \n",
      "25%        4.000000  0.000000e+00     2.000000        NaN        NaN   \n",
      "50%       10.000000  1.000000e+00     5.000000        NaN        NaN   \n",
      "75%       28.000000  1.526200e+04     9.000000        NaN        NaN   \n",
      "max    15968.000000  3.352583e+06    20.000000        NaN        NaN   \n",
      "\n",
      "                ads  \n",
      "count  20509.000000  \n",
      "mean       0.017017  \n",
      "std        0.129337  \n",
      "min        0.000000  \n",
      "25%        0.000000  \n",
      "50%        0.000000  \n",
      "75%        0.000000  \n",
      "max        1.000000  \n",
      "\n",
      "[8 rows x 23 columns]\n"
     ]
    }
   ],
   "source": [
    "data_folder = \"drills_data/\"\n",
    "prices = pd.read_csv(data_folder + \"prices.csv\")\n",
    "print(prices.describe())"
   ]
  },
  {
   "cell_type": "markdown",
   "metadata": {},
   "source": [
    "\n",
    "# Promotions/ads"
   ]
  },
  {
   "cell_type": "markdown",
   "metadata": {},
   "source": [
    "What percentage of drills have ads both overall and by each platform?"
   ]
  },
  {
   "cell_type": "code",
   "execution_count": null,
   "metadata": {},
   "outputs": [],
   "source": []
  },
  {
   "cell_type": "markdown",
   "metadata": {},
   "source": [
    "What percentage of ads are on the first page for each platform?"
   ]
  },
  {
   "cell_type": "code",
   "execution_count": null,
   "metadata": {},
   "outputs": [],
   "source": []
  },
  {
   "cell_type": "markdown",
   "metadata": {},
   "source": [
    "Are ads correlated with rank in page i.e. create a scatter plot and report the correlation."
   ]
  },
  {
   "cell_type": "code",
   "execution_count": null,
   "metadata": {},
   "outputs": [],
   "source": []
  },
  {
   "cell_type": "markdown",
   "metadata": {},
   "source": [
    "For products that have ads how does search rank change the next 4 observations, on average? (i.e. use shift)"
   ]
  },
  {
   "cell_type": "code",
   "execution_count": null,
   "metadata": {},
   "outputs": [],
   "source": []
  }
 ],
 "metadata": {
  "kernelspec": {
   "display_name": "Python 3",
   "language": "python",
   "name": "python3"
  },
  "language_info": {
   "codemirror_mode": {
    "name": "ipython",
    "version": 3
   },
   "file_extension": ".py",
   "mimetype": "text/x-python",
   "name": "python",
   "nbconvert_exporter": "python",
   "pygments_lexer": "ipython3",
   "version": "3.7.4"
  }
 },
 "nbformat": 4,
 "nbformat_minor": 2
}
