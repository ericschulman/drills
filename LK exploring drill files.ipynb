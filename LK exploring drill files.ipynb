{
 "cells": [
  {
   "cell_type": "code",
   "execution_count": 2,
   "metadata": {},
   "outputs": [],
   "source": [
    "import pandas as pd\n",
    "import numpy as np\n",
    "import matplotlib.pyplot as plt\n",
    "import os\n",
    "\n",
    "# Pandas display format\n",
    "pd.set_option('display.float_format', lambda x: '%.3f' % x)"
   ]
  },
  {
   "cell_type": "code",
   "execution_count": 9,
   "metadata": {},
   "outputs": [],
   "source": [
    "entry_df = pd.read_csv(\"/Users/lvk99/Jupyterfiles/2nd year PhD/Research/Eric drills/Data/drills_data/entry.csv\")\n",
    "prices_df = pd.read_csv(\"/Users/lvk99/Jupyterfiles/2nd year PhD/Research/Eric drills/Data/drills_data/prices.csv\")"
   ]
  },
  {
   "cell_type": "markdown",
   "metadata": {},
   "source": [
    "# Entry"
   ]
  },
  {
   "cell_type": "code",
   "execution_count": 18,
   "metadata": {},
   "outputs": [
    {
     "name": "stdout",
     "output_type": "stream",
     "text": [
      "1417\n",
      "54\n"
     ]
    }
   ],
   "source": [
    "# How many cities?\n",
    "print(len(entry_df.city.unique()))\n",
    "\n",
    "# How many states?\n",
    "print(len(entry_df.state.unique()))"
   ]
  },
  {
   "cell_type": "code",
   "execution_count": 81,
   "metadata": {},
   "outputs": [
    {
     "data": {
      "text/plain": [
       "Index(['HD', 'city', 'state', 'LO', 'city.1', 'state.1', 'address', 'city.2',\n",
       "       'store', 'time', 'url', 'zipcode', 'STATE', 'STATENS', 'STATE_NAME',\n",
       "       'STUSAB', 'NAME', 'population', 'under44_1', 'under44_2', 'under44_3',\n",
       "       'older65_1', 'older_65_2', 'income_per_capita', 'industrial_managers',\n",
       "       'construction_managers', 'farmers', 'realestate',\n",
       "       'construction_workers', 'state:1', 'place'],\n",
       "      dtype='object')"
      ]
     },
     "execution_count": 81,
     "metadata": {},
     "output_type": "execute_result"
    }
   ],
   "source": [
    "entry_df.columns"
   ]
  },
  {
   "cell_type": "code",
   "execution_count": null,
   "metadata": {},
   "outputs": [],
   "source": [
    "# HD maybe number of home depot stores, LO equivalent for HD\n",
    "# STATENS, maybe CENSUS identifier\n",
    "# under44, number of people under age 44?\n",
    "# older65, number of people over 65"
   ]
  },
  {
   "cell_type": "code",
   "execution_count": 112,
   "metadata": {},
   "outputs": [
    {
     "data": {
      "text/plain": [
       "array([1714934, 1779804, 1779801, 1779795, 1705317, 1102857, 1779799,\n",
       "       1085497,  897535, 1779796, 1155107,  662849, 1779775, 1629543,\n",
       "       1779803, 1779784, 1779778, 1779789, 1779798,  294478, 1455989,\n",
       "       1785533, 1779785, 1325873, 1027616, 1779806, 1779791, 1779779,\n",
       "        448508, 1779787,  606926, 1779777, 1779805,   68085, 1779808,\n",
       "       1779802, 1779780,  767982, 1779790, 1779783, 1779786, 1779793,\n",
       "       1779807, 1779794, 1779781, 1219835, 1779797,  481813, 1779792,\n",
       "       1779782, 1802710, 1785534, 1802705, 1702382])"
      ]
     },
     "execution_count": 112,
     "metadata": {},
     "output_type": "execute_result"
    }
   ],
   "source": [
    "entry_df.STATENS.unique()"
   ]
  },
  {
   "cell_type": "code",
   "execution_count": 111,
   "metadata": {},
   "outputs": [
    {
     "data": {
      "text/plain": [
       "array([ 1,  2,  4,  3,  6,  7,  5, 11, 19,  9, 10,  8, 12])"
      ]
     },
     "execution_count": 111,
     "metadata": {},
     "output_type": "execute_result"
    }
   ],
   "source": [
    "entry_df.HD.unique()"
   ]
  },
  {
   "cell_type": "code",
   "execution_count": 109,
   "metadata": {},
   "outputs": [
    {
     "data": {
      "text/html": [
       "<div>\n",
       "<style scoped>\n",
       "    .dataframe tbody tr th:only-of-type {\n",
       "        vertical-align: middle;\n",
       "    }\n",
       "\n",
       "    .dataframe tbody tr th {\n",
       "        vertical-align: top;\n",
       "    }\n",
       "\n",
       "    .dataframe thead th {\n",
       "        text-align: right;\n",
       "    }\n",
       "</style>\n",
       "<table border=\"1\" class=\"dataframe\">\n",
       "  <thead>\n",
       "    <tr style=\"text-align: right;\">\n",
       "      <th></th>\n",
       "      <th>HD</th>\n",
       "      <th>city</th>\n",
       "      <th>state</th>\n",
       "      <th>LO</th>\n",
       "      <th>city.1</th>\n",
       "      <th>state.1</th>\n",
       "      <th>address</th>\n",
       "      <th>city.2</th>\n",
       "      <th>store</th>\n",
       "      <th>time</th>\n",
       "      <th>...</th>\n",
       "      <th>older65_1</th>\n",
       "      <th>older_65_2</th>\n",
       "      <th>income_per_capita</th>\n",
       "      <th>industrial_managers</th>\n",
       "      <th>construction_managers</th>\n",
       "      <th>farmers</th>\n",
       "      <th>realestate</th>\n",
       "      <th>construction_workers</th>\n",
       "      <th>state:1</th>\n",
       "      <th>place</th>\n",
       "    </tr>\n",
       "  </thead>\n",
       "  <tbody>\n",
       "    <tr>\n",
       "      <th>1</th>\n",
       "      <td>1</td>\n",
       "      <td>Aberdeen</td>\n",
       "      <td>53</td>\n",
       "      <td>nan</td>\n",
       "      <td>NaN</td>\n",
       "      <td>nan</td>\n",
       "      <td>2213 Port Industrial Rd</td>\n",
       "      <td>Aberdeen</td>\n",
       "      <td>HD</td>\n",
       "      <td>1597100892.168</td>\n",
       "      <td>...</td>\n",
       "      <td>1506.000</td>\n",
       "      <td>1061.000</td>\n",
       "      <td>21544.000</td>\n",
       "      <td>nan</td>\n",
       "      <td>nan</td>\n",
       "      <td>nan</td>\n",
       "      <td>nan</td>\n",
       "      <td>nan</td>\n",
       "      <td>53.000</td>\n",
       "      <td>100.000</td>\n",
       "    </tr>\n",
       "    <tr>\n",
       "      <th>3</th>\n",
       "      <td>1</td>\n",
       "      <td>Absecon</td>\n",
       "      <td>34</td>\n",
       "      <td>nan</td>\n",
       "      <td>NaN</td>\n",
       "      <td>nan</td>\n",
       "      <td>421 Absecon Blvd</td>\n",
       "      <td>Absecon</td>\n",
       "      <td>HD</td>\n",
       "      <td>1597100547.438</td>\n",
       "      <td>...</td>\n",
       "      <td>1062.000</td>\n",
       "      <td>789.000</td>\n",
       "      <td>35991.000</td>\n",
       "      <td>nan</td>\n",
       "      <td>nan</td>\n",
       "      <td>nan</td>\n",
       "      <td>nan</td>\n",
       "      <td>nan</td>\n",
       "      <td>34.000</td>\n",
       "      <td>100.000</td>\n",
       "    </tr>\n",
       "  </tbody>\n",
       "</table>\n",
       "<p>2 rows × 31 columns</p>\n",
       "</div>"
      ],
      "text/plain": [
       "   HD      city  state  LO city.1  state.1                  address    city.2  \\\n",
       "1   1  Aberdeen     53 nan    NaN      nan  2213 Port Industrial Rd  Aberdeen   \n",
       "3   1   Absecon     34 nan    NaN      nan         421 Absecon Blvd   Absecon   \n",
       "\n",
       "  store           time  ... older65_1 older_65_2  income_per_capita  \\\n",
       "1    HD 1597100892.168  ...  1506.000   1061.000          21544.000   \n",
       "3    HD 1597100547.438  ...  1062.000    789.000          35991.000   \n",
       "\n",
       "   industrial_managers construction_managers farmers realestate  \\\n",
       "1                  nan                   nan     nan        nan   \n",
       "3                  nan                   nan     nan        nan   \n",
       "\n",
       "   construction_workers  state:1   place  \n",
       "1                   nan   53.000 100.000  \n",
       "3                   nan   34.000 100.000  \n",
       "\n",
       "[2 rows x 31 columns]"
      ]
     },
     "execution_count": 109,
     "metadata": {},
     "output_type": "execute_result"
    }
   ],
   "source": [
    "# Place ids don't seem to be unique\n",
    "# Place id == 100 offers an example, it refers to one location in Aberdeen and one in Absecon\n",
    "\n",
    "entry_df[entry_df.place == 100.000]"
   ]
  },
  {
   "cell_type": "code",
   "execution_count": 90,
   "metadata": {},
   "outputs": [
    {
     "data": {
      "text/plain": [
       "(1584, 1336)"
      ]
     },
     "execution_count": 90,
     "metadata": {},
     "output_type": "execute_result"
    }
   ],
   "source": [
    "len(entry_df), len(entry_df.place.unique())"
   ]
  },
  {
   "cell_type": "code",
   "execution_count": 91,
   "metadata": {},
   "outputs": [
    {
     "data": {
      "text/plain": [
       "array([ 1,  2,  4,  3,  6,  7,  5, 11, 19,  9, 10,  8, 12])"
      ]
     },
     "execution_count": 91,
     "metadata": {},
     "output_type": "execute_result"
    }
   ],
   "source": [
    "entry_df.HD.unique()"
   ]
  },
  {
   "cell_type": "code",
   "execution_count": 95,
   "metadata": {},
   "outputs": [
    {
     "data": {
      "text/plain": [
       "0        569.000\n",
       "1       1377.000\n",
       "2      19407.000\n",
       "3        708.000\n",
       "4       1963.000\n",
       "          ...   \n",
       "1579     910.000\n",
       "1580   12169.000\n",
       "1581    1429.000\n",
       "1582     127.000\n",
       "1583     210.000\n",
       "Name: under44_1, Length: 1584, dtype: float64"
      ]
     },
     "execution_count": 95,
     "metadata": {},
     "output_type": "execute_result"
    }
   ],
   "source": [
    "entry_df.under44_1"
   ]
  },
  {
   "cell_type": "code",
   "execution_count": 108,
   "metadata": {},
   "outputs": [
    {
     "name": "stdout",
     "output_type": "stream",
     "text": [
      "industrial_managers\n",
      "[nan]\n",
      "--------------\n",
      "construction_managers\n",
      "[nan]\n",
      "--------------\n",
      "farmers\n",
      "[nan]\n",
      "--------------\n",
      "realestate\n",
      "[nan]\n",
      "--------------\n",
      "construction_workers\n",
      "[nan]\n",
      "--------------\n"
     ]
    }
   ],
   "source": [
    "# All null values\n",
    "\n",
    "for col in entry_df.columns[-7:-2]:\n",
    "    print(col)\n",
    "    print(entry_df[col].unique())\n",
    "    print('--------------')"
   ]
  },
  {
   "cell_type": "code",
   "execution_count": 101,
   "metadata": {},
   "outputs": [
    {
     "data": {
      "text/plain": [
       "(array([nan]), array([nan]), array([nan]))"
      ]
     },
     "execution_count": 101,
     "metadata": {},
     "output_type": "execute_result"
    }
   ],
   "source": [
    "print(\"Industrial managers\")\n",
    "entry_df.industrial_managers.unique(), entry_df.construction_managers.unique(), entry_df.farmers.unique()"
   ]
  },
  {
   "cell_type": "code",
   "execution_count": 97,
   "metadata": {},
   "outputs": [
    {
     "data": {
      "text/html": [
       "<div>\n",
       "<style scoped>\n",
       "    .dataframe tbody tr th:only-of-type {\n",
       "        vertical-align: middle;\n",
       "    }\n",
       "\n",
       "    .dataframe tbody tr th {\n",
       "        vertical-align: top;\n",
       "    }\n",
       "\n",
       "    .dataframe thead th {\n",
       "        text-align: right;\n",
       "    }\n",
       "</style>\n",
       "<table border=\"1\" class=\"dataframe\">\n",
       "  <thead>\n",
       "    <tr style=\"text-align: right;\">\n",
       "      <th></th>\n",
       "      <th>address</th>\n",
       "      <th>city</th>\n",
       "      <th>state</th>\n",
       "      <th>population</th>\n",
       "    </tr>\n",
       "  </thead>\n",
       "  <tbody>\n",
       "    <tr>\n",
       "      <th>0</th>\n",
       "      <td>979 Beards Hill Road</td>\n",
       "      <td>Aberdeen</td>\n",
       "      <td>24</td>\n",
       "      <td>2723.000</td>\n",
       "    </tr>\n",
       "    <tr>\n",
       "      <th>1</th>\n",
       "      <td>2213 Port Industrial Rd</td>\n",
       "      <td>Aberdeen</td>\n",
       "      <td>53</td>\n",
       "      <td>16359.000</td>\n",
       "    </tr>\n",
       "  </tbody>\n",
       "</table>\n",
       "</div>"
      ],
      "text/plain": [
       "                   address      city  state  population\n",
       "0     979 Beards Hill Road  Aberdeen     24    2723.000\n",
       "1  2213 Port Industrial Rd  Aberdeen     53   16359.000"
      ]
     },
     "execution_count": 97,
     "metadata": {},
     "output_type": "execute_result"
    }
   ],
   "source": [
    "entry_df[['address', 'city', 'state', 'population']].head(2)"
   ]
  },
  {
   "cell_type": "code",
   "execution_count": 93,
   "metadata": {},
   "outputs": [
    {
     "data": {
      "text/html": [
       "<div>\n",
       "<style scoped>\n",
       "    .dataframe tbody tr th:only-of-type {\n",
       "        vertical-align: middle;\n",
       "    }\n",
       "\n",
       "    .dataframe tbody tr th {\n",
       "        vertical-align: top;\n",
       "    }\n",
       "\n",
       "    .dataframe thead th {\n",
       "        text-align: right;\n",
       "    }\n",
       "</style>\n",
       "<table border=\"1\" class=\"dataframe\">\n",
       "  <thead>\n",
       "    <tr style=\"text-align: right;\">\n",
       "      <th></th>\n",
       "      <th>HD</th>\n",
       "      <th>city</th>\n",
       "      <th>state</th>\n",
       "      <th>LO</th>\n",
       "      <th>city.1</th>\n",
       "      <th>state.1</th>\n",
       "      <th>address</th>\n",
       "      <th>city.2</th>\n",
       "      <th>store</th>\n",
       "      <th>time</th>\n",
       "      <th>...</th>\n",
       "      <th>older65_1</th>\n",
       "      <th>older_65_2</th>\n",
       "      <th>income_per_capita</th>\n",
       "      <th>industrial_managers</th>\n",
       "      <th>construction_managers</th>\n",
       "      <th>farmers</th>\n",
       "      <th>realestate</th>\n",
       "      <th>construction_workers</th>\n",
       "      <th>state:1</th>\n",
       "      <th>place</th>\n",
       "    </tr>\n",
       "  </thead>\n",
       "  <tbody>\n",
       "    <tr>\n",
       "      <th>0</th>\n",
       "      <td>1</td>\n",
       "      <td>Aberdeen</td>\n",
       "      <td>24</td>\n",
       "      <td>nan</td>\n",
       "      <td>NaN</td>\n",
       "      <td>nan</td>\n",
       "      <td>979 Beards Hill Road</td>\n",
       "      <td>Aberdeen</td>\n",
       "      <td>HD</td>\n",
       "      <td>1597100429.521</td>\n",
       "      <td>...</td>\n",
       "      <td>18.000</td>\n",
       "      <td>9.000</td>\n",
       "      <td>28641.000</td>\n",
       "      <td>nan</td>\n",
       "      <td>nan</td>\n",
       "      <td>nan</td>\n",
       "      <td>nan</td>\n",
       "      <td>nan</td>\n",
       "      <td>24.000</td>\n",
       "      <td>175.000</td>\n",
       "    </tr>\n",
       "    <tr>\n",
       "      <th>1</th>\n",
       "      <td>1</td>\n",
       "      <td>Aberdeen</td>\n",
       "      <td>53</td>\n",
       "      <td>nan</td>\n",
       "      <td>NaN</td>\n",
       "      <td>nan</td>\n",
       "      <td>2213 Port Industrial Rd</td>\n",
       "      <td>Aberdeen</td>\n",
       "      <td>HD</td>\n",
       "      <td>1597100892.168</td>\n",
       "      <td>...</td>\n",
       "      <td>1506.000</td>\n",
       "      <td>1061.000</td>\n",
       "      <td>21544.000</td>\n",
       "      <td>nan</td>\n",
       "      <td>nan</td>\n",
       "      <td>nan</td>\n",
       "      <td>nan</td>\n",
       "      <td>nan</td>\n",
       "      <td>53.000</td>\n",
       "      <td>100.000</td>\n",
       "    </tr>\n",
       "  </tbody>\n",
       "</table>\n",
       "<p>2 rows × 31 columns</p>\n",
       "</div>"
      ],
      "text/plain": [
       "   HD      city  state  LO city.1  state.1                  address    city.2  \\\n",
       "0   1  Aberdeen     24 nan    NaN      nan     979 Beards Hill Road  Aberdeen   \n",
       "1   1  Aberdeen     53 nan    NaN      nan  2213 Port Industrial Rd  Aberdeen   \n",
       "\n",
       "  store           time  ... older65_1 older_65_2  income_per_capita  \\\n",
       "0    HD 1597100429.521  ...    18.000      9.000          28641.000   \n",
       "1    HD 1597100892.168  ...  1506.000   1061.000          21544.000   \n",
       "\n",
       "   industrial_managers construction_managers farmers realestate  \\\n",
       "0                  nan                   nan     nan        nan   \n",
       "1                  nan                   nan     nan        nan   \n",
       "\n",
       "   construction_workers  state:1   place  \n",
       "0                   nan   24.000 175.000  \n",
       "1                   nan   53.000 100.000  \n",
       "\n",
       "[2 rows x 31 columns]"
      ]
     },
     "execution_count": 93,
     "metadata": {},
     "output_type": "execute_result"
    }
   ],
   "source": [
    "entry_df.head(2)"
   ]
  },
  {
   "cell_type": "code",
   "execution_count": 31,
   "metadata": {},
   "outputs": [
    {
     "data": {
      "text/plain": [
       "array(['HD', 'LOW'], dtype=object)"
      ]
     },
     "execution_count": 31,
     "metadata": {},
     "output_type": "execute_result"
    }
   ],
   "source": [
    "entry_df.store.unique()"
   ]
  },
  {
   "cell_type": "code",
   "execution_count": 30,
   "metadata": {},
   "outputs": [
    {
     "data": {
      "text/html": [
       "<div>\n",
       "<style scoped>\n",
       "    .dataframe tbody tr th:only-of-type {\n",
       "        vertical-align: middle;\n",
       "    }\n",
       "\n",
       "    .dataframe tbody tr th {\n",
       "        vertical-align: top;\n",
       "    }\n",
       "\n",
       "    .dataframe thead th {\n",
       "        text-align: right;\n",
       "    }\n",
       "</style>\n",
       "<table border=\"1\" class=\"dataframe\">\n",
       "  <thead>\n",
       "    <tr style=\"text-align: right;\">\n",
       "      <th></th>\n",
       "      <th>city</th>\n",
       "      <th>state</th>\n",
       "      <th>population</th>\n",
       "    </tr>\n",
       "  </thead>\n",
       "  <tbody>\n",
       "    <tr>\n",
       "      <th>0</th>\n",
       "      <td>Aberdeen</td>\n",
       "      <td>24</td>\n",
       "      <td>2723.000</td>\n",
       "    </tr>\n",
       "    <tr>\n",
       "      <th>1</th>\n",
       "      <td>Aberdeen</td>\n",
       "      <td>53</td>\n",
       "      <td>16359.000</td>\n",
       "    </tr>\n",
       "    <tr>\n",
       "      <th>2</th>\n",
       "      <td>Abilene</td>\n",
       "      <td>48</td>\n",
       "      <td>123676.000</td>\n",
       "    </tr>\n",
       "    <tr>\n",
       "      <th>3</th>\n",
       "      <td>Absecon</td>\n",
       "      <td>34</td>\n",
       "      <td>8289.000</td>\n",
       "    </tr>\n",
       "    <tr>\n",
       "      <th>4</th>\n",
       "      <td>Acworth</td>\n",
       "      <td>13</td>\n",
       "      <td>22336.000</td>\n",
       "    </tr>\n",
       "    <tr>\n",
       "      <th>...</th>\n",
       "      <td>...</td>\n",
       "      <td>...</td>\n",
       "      <td>...</td>\n",
       "    </tr>\n",
       "    <tr>\n",
       "      <th>1579</th>\n",
       "      <td>Yulee</td>\n",
       "      <td>12</td>\n",
       "      <td>12616.000</td>\n",
       "    </tr>\n",
       "    <tr>\n",
       "      <th>1580</th>\n",
       "      <td>Yuma</td>\n",
       "      <td>4</td>\n",
       "      <td>95573.000</td>\n",
       "    </tr>\n",
       "    <tr>\n",
       "      <th>1581</th>\n",
       "      <td>Zachary</td>\n",
       "      <td>22</td>\n",
       "      <td>17056.000</td>\n",
       "    </tr>\n",
       "    <tr>\n",
       "      <th>1582</th>\n",
       "      <td>Zanesville</td>\n",
       "      <td>39</td>\n",
       "      <td>2253.000</td>\n",
       "    </tr>\n",
       "    <tr>\n",
       "      <th>1583</th>\n",
       "      <td>Zephyrhills</td>\n",
       "      <td>12</td>\n",
       "      <td>5163.000</td>\n",
       "    </tr>\n",
       "  </tbody>\n",
       "</table>\n",
       "<p>1584 rows × 3 columns</p>\n",
       "</div>"
      ],
      "text/plain": [
       "             city  state  population\n",
       "0        Aberdeen     24    2723.000\n",
       "1        Aberdeen     53   16359.000\n",
       "2         Abilene     48  123676.000\n",
       "3         Absecon     34    8289.000\n",
       "4         Acworth     13   22336.000\n",
       "...           ...    ...         ...\n",
       "1579        Yulee     12   12616.000\n",
       "1580         Yuma      4   95573.000\n",
       "1581      Zachary     22   17056.000\n",
       "1582   Zanesville     39    2253.000\n",
       "1583  Zephyrhills     12    5163.000\n",
       "\n",
       "[1584 rows x 3 columns]"
      ]
     },
     "execution_count": 30,
     "metadata": {},
     "output_type": "execute_result"
    }
   ],
   "source": [
    "entry_df[['city', 'state','population']]"
   ]
  },
  {
   "cell_type": "code",
   "execution_count": 27,
   "metadata": {},
   "outputs": [
    {
     "data": {
      "text/html": [
       "<div>\n",
       "<style scoped>\n",
       "    .dataframe tbody tr th:only-of-type {\n",
       "        vertical-align: middle;\n",
       "    }\n",
       "\n",
       "    .dataframe tbody tr th {\n",
       "        vertical-align: top;\n",
       "    }\n",
       "\n",
       "    .dataframe thead th {\n",
       "        text-align: right;\n",
       "    }\n",
       "</style>\n",
       "<table border=\"1\" class=\"dataframe\">\n",
       "  <thead>\n",
       "    <tr style=\"text-align: right;\">\n",
       "      <th></th>\n",
       "      <th>HD</th>\n",
       "      <th>state</th>\n",
       "      <th>LO</th>\n",
       "      <th>state.1</th>\n",
       "      <th>time</th>\n",
       "      <th>STATE</th>\n",
       "      <th>STATENS</th>\n",
       "      <th>population</th>\n",
       "      <th>under44_1</th>\n",
       "      <th>under44_2</th>\n",
       "      <th>...</th>\n",
       "      <th>older65_1</th>\n",
       "      <th>older_65_2</th>\n",
       "      <th>income_per_capita</th>\n",
       "      <th>industrial_managers</th>\n",
       "      <th>construction_managers</th>\n",
       "      <th>farmers</th>\n",
       "      <th>realestate</th>\n",
       "      <th>construction_workers</th>\n",
       "      <th>state:1</th>\n",
       "      <th>place</th>\n",
       "    </tr>\n",
       "  </thead>\n",
       "  <tbody>\n",
       "    <tr>\n",
       "      <th>count</th>\n",
       "      <td>1584.000</td>\n",
       "      <td>1584.000</td>\n",
       "      <td>633.000</td>\n",
       "      <td>633.000</td>\n",
       "      <td>1584.000</td>\n",
       "      <td>1584.000</td>\n",
       "      <td>1584.000</td>\n",
       "      <td>1449.000</td>\n",
       "      <td>1443.000</td>\n",
       "      <td>1443.000</td>\n",
       "      <td>...</td>\n",
       "      <td>1443.000</td>\n",
       "      <td>1443.000</td>\n",
       "      <td>1448.000</td>\n",
       "      <td>0.000</td>\n",
       "      <td>0.000</td>\n",
       "      <td>0.000</td>\n",
       "      <td>0.000</td>\n",
       "      <td>0.000</td>\n",
       "      <td>1449.000</td>\n",
       "      <td>1449.000</td>\n",
       "    </tr>\n",
       "    <tr>\n",
       "      <th>mean</th>\n",
       "      <td>1.254</td>\n",
       "      <td>27.140</td>\n",
       "      <td>1.273</td>\n",
       "      <td>28.051</td>\n",
       "      <td>1597122062.546</td>\n",
       "      <td>27.140</td>\n",
       "      <td>1503873.972</td>\n",
       "      <td>69471.618</td>\n",
       "      <td>7389.017</td>\n",
       "      <td>10960.044</td>\n",
       "      <td>...</td>\n",
       "      <td>5274.622</td>\n",
       "      <td>3868.283</td>\n",
       "      <td>-888759.182</td>\n",
       "      <td>nan</td>\n",
       "      <td>nan</td>\n",
       "      <td>nan</td>\n",
       "      <td>nan</td>\n",
       "      <td>nan</td>\n",
       "      <td>26.834</td>\n",
       "      <td>42784.767</td>\n",
       "    </tr>\n",
       "    <tr>\n",
       "      <th>std</th>\n",
       "      <td>0.995</td>\n",
       "      <td>16.300</td>\n",
       "      <td>0.817</td>\n",
       "      <td>16.531</td>\n",
       "      <td>33131.202</td>\n",
       "      <td>16.300</td>\n",
       "      <td>492406.700</td>\n",
       "      <td>146346.169</td>\n",
       "      <td>15760.372</td>\n",
       "      <td>26923.922</td>\n",
       "      <td>...</td>\n",
       "      <td>10172.375</td>\n",
       "      <td>7216.405</td>\n",
       "      <td>24769104.354</td>\n",
       "      <td>nan</td>\n",
       "      <td>nan</td>\n",
       "      <td>nan</td>\n",
       "      <td>nan</td>\n",
       "      <td>nan</td>\n",
       "      <td>16.378</td>\n",
       "      <td>24245.218</td>\n",
       "    </tr>\n",
       "    <tr>\n",
       "      <th>min</th>\n",
       "      <td>1.000</td>\n",
       "      <td>1.000</td>\n",
       "      <td>1.000</td>\n",
       "      <td>1.000</td>\n",
       "      <td>1597100286.471</td>\n",
       "      <td>1.000</td>\n",
       "      <td>68085.000</td>\n",
       "      <td>0.000</td>\n",
       "      <td>0.000</td>\n",
       "      <td>0.000</td>\n",
       "      <td>...</td>\n",
       "      <td>0.000</td>\n",
       "      <td>0.000</td>\n",
       "      <td>-666666666.000</td>\n",
       "      <td>nan</td>\n",
       "      <td>nan</td>\n",
       "      <td>nan</td>\n",
       "      <td>nan</td>\n",
       "      <td>nan</td>\n",
       "      <td>1.000</td>\n",
       "      <td>100.000</td>\n",
       "    </tr>\n",
       "    <tr>\n",
       "      <th>25%</th>\n",
       "      <td>1.000</td>\n",
       "      <td>12.000</td>\n",
       "      <td>1.000</td>\n",
       "      <td>12.000</td>\n",
       "      <td>1597100379.109</td>\n",
       "      <td>12.000</td>\n",
       "      <td>1423460.000</td>\n",
       "      <td>12909.000</td>\n",
       "      <td>1053.500</td>\n",
       "      <td>1680.500</td>\n",
       "      <td>...</td>\n",
       "      <td>1089.000</td>\n",
       "      <td>848.500</td>\n",
       "      <td>24346.250</td>\n",
       "      <td>nan</td>\n",
       "      <td>nan</td>\n",
       "      <td>nan</td>\n",
       "      <td>nan</td>\n",
       "      <td>nan</td>\n",
       "      <td>12.000</td>\n",
       "      <td>21796.000</td>\n",
       "    </tr>\n",
       "    <tr>\n",
       "      <th>50%</th>\n",
       "      <td>1.000</td>\n",
       "      <td>26.000</td>\n",
       "      <td>1.000</td>\n",
       "      <td>29.000</td>\n",
       "      <td>1597100605.555</td>\n",
       "      <td>26.000</td>\n",
       "      <td>1779779.000</td>\n",
       "      <td>30840.000</td>\n",
       "      <td>2869.000</td>\n",
       "      <td>4164.000</td>\n",
       "      <td>...</td>\n",
       "      <td>2502.000</td>\n",
       "      <td>1925.000</td>\n",
       "      <td>29674.000</td>\n",
       "      <td>nan</td>\n",
       "      <td>nan</td>\n",
       "      <td>nan</td>\n",
       "      <td>nan</td>\n",
       "      <td>nan</td>\n",
       "      <td>26.000</td>\n",
       "      <td>43930.000</td>\n",
       "    </tr>\n",
       "    <tr>\n",
       "      <th>75%</th>\n",
       "      <td>1.000</td>\n",
       "      <td>41.000</td>\n",
       "      <td>1.000</td>\n",
       "      <td>45.000</td>\n",
       "      <td>1597172338.610</td>\n",
       "      <td>41.000</td>\n",
       "      <td>1779796.000</td>\n",
       "      <td>73392.000</td>\n",
       "      <td>7011.000</td>\n",
       "      <td>10665.500</td>\n",
       "      <td>...</td>\n",
       "      <td>5736.000</td>\n",
       "      <td>4398.000</td>\n",
       "      <td>37083.000</td>\n",
       "      <td>nan</td>\n",
       "      <td>nan</td>\n",
       "      <td>nan</td>\n",
       "      <td>nan</td>\n",
       "      <td>nan</td>\n",
       "      <td>41.000</td>\n",
       "      <td>62546.000</td>\n",
       "    </tr>\n",
       "    <tr>\n",
       "      <th>max</th>\n",
       "      <td>19.000</td>\n",
       "      <td>78.000</td>\n",
       "      <td>10.000</td>\n",
       "      <td>56.000</td>\n",
       "      <td>1597173827.094</td>\n",
       "      <td>78.000</td>\n",
       "      <td>1802710.000</td>\n",
       "      <td>2718555.000</td>\n",
       "      <td>276678.000</td>\n",
       "      <td>536817.000</td>\n",
       "      <td>...</td>\n",
       "      <td>189225.000</td>\n",
       "      <td>137757.000</td>\n",
       "      <td>216416.000</td>\n",
       "      <td>nan</td>\n",
       "      <td>nan</td>\n",
       "      <td>nan</td>\n",
       "      <td>nan</td>\n",
       "      <td>nan</td>\n",
       "      <td>72.000</td>\n",
       "      <td>89140.000</td>\n",
       "    </tr>\n",
       "  </tbody>\n",
       "</table>\n",
       "<p>8 rows × 21 columns</p>\n",
       "</div>"
      ],
      "text/plain": [
       "            HD    state      LO  state.1           time    STATE     STATENS  \\\n",
       "count 1584.000 1584.000 633.000  633.000       1584.000 1584.000    1584.000   \n",
       "mean     1.254   27.140   1.273   28.051 1597122062.546   27.140 1503873.972   \n",
       "std      0.995   16.300   0.817   16.531      33131.202   16.300  492406.700   \n",
       "min      1.000    1.000   1.000    1.000 1597100286.471    1.000   68085.000   \n",
       "25%      1.000   12.000   1.000   12.000 1597100379.109   12.000 1423460.000   \n",
       "50%      1.000   26.000   1.000   29.000 1597100605.555   26.000 1779779.000   \n",
       "75%      1.000   41.000   1.000   45.000 1597172338.610   41.000 1779796.000   \n",
       "max     19.000   78.000  10.000   56.000 1597173827.094   78.000 1802710.000   \n",
       "\n",
       "       population  under44_1  under44_2  ...  older65_1  older_65_2  \\\n",
       "count    1449.000   1443.000   1443.000  ...   1443.000    1443.000   \n",
       "mean    69471.618   7389.017  10960.044  ...   5274.622    3868.283   \n",
       "std    146346.169  15760.372  26923.922  ...  10172.375    7216.405   \n",
       "min         0.000      0.000      0.000  ...      0.000       0.000   \n",
       "25%     12909.000   1053.500   1680.500  ...   1089.000     848.500   \n",
       "50%     30840.000   2869.000   4164.000  ...   2502.000    1925.000   \n",
       "75%     73392.000   7011.000  10665.500  ...   5736.000    4398.000   \n",
       "max   2718555.000 276678.000 536817.000  ... 189225.000  137757.000   \n",
       "\n",
       "       income_per_capita  industrial_managers  construction_managers  farmers  \\\n",
       "count           1448.000                0.000                  0.000    0.000   \n",
       "mean         -888759.182                  nan                    nan      nan   \n",
       "std         24769104.354                  nan                    nan      nan   \n",
       "min       -666666666.000                  nan                    nan      nan   \n",
       "25%            24346.250                  nan                    nan      nan   \n",
       "50%            29674.000                  nan                    nan      nan   \n",
       "75%            37083.000                  nan                    nan      nan   \n",
       "max           216416.000                  nan                    nan      nan   \n",
       "\n",
       "       realestate  construction_workers  state:1     place  \n",
       "count       0.000                 0.000 1449.000  1449.000  \n",
       "mean          nan                   nan   26.834 42784.767  \n",
       "std           nan                   nan   16.378 24245.218  \n",
       "min           nan                   nan    1.000   100.000  \n",
       "25%           nan                   nan   12.000 21796.000  \n",
       "50%           nan                   nan   26.000 43930.000  \n",
       "75%           nan                   nan   41.000 62546.000  \n",
       "max           nan                   nan   72.000 89140.000  \n",
       "\n",
       "[8 rows x 21 columns]"
      ]
     },
     "execution_count": 27,
     "metadata": {},
     "output_type": "execute_result"
    }
   ],
   "source": [
    "entry_df.describe()"
   ]
  },
  {
   "cell_type": "markdown",
   "metadata": {},
   "source": [
    "---------\n",
    "# Price dataframe"
   ]
  },
  {
   "cell_type": "code",
   "execution_count": 45,
   "metadata": {},
   "outputs": [
    {
     "data": {
      "text/plain": [
       "Index(['platform', 'website', 'date', 'zipcode', 'rank', 'page', 'query',\n",
       "       'prod_id', 'upc', 'product', 'manufacturer', 'model', 'price',\n",
       "       'list_price', 'in_stock', 'max_qty', 'seller', 'arrives', 'shipping',\n",
       "       'shipping_price', 'shipping_options', 'store_stock', 'store_address',\n",
       "       'store_zip', 'store_price', 'weight', 'reviews', 'rating', 'quantity1',\n",
       "       'quantity2', 'quantity3', 'quantity4', 'quantity5', 'ads'],\n",
       "      dtype='object')"
      ]
     },
     "execution_count": 45,
     "metadata": {},
     "output_type": "execute_result"
    }
   ],
   "source": [
    "prices_df.columns"
   ]
  },
  {
   "cell_type": "code",
   "execution_count": 120,
   "metadata": {},
   "outputs": [],
   "source": [
    "prices_df['counter'] = prices_df.index"
   ]
  },
  {
   "cell_type": "code",
   "execution_count": 121,
   "metadata": {},
   "outputs": [
    {
     "data": {
      "text/plain": [
       "manufacturer    model                                             \n",
       "ACDelco         ARD12126S1                                            102\n",
       "                ARD847 Li-Ion 8-volt Super Compact Drill/Driver Ki     26\n",
       "Amazon Renewed  11255VSRRT                                             53\n",
       "                2691-22-cr                                             25\n",
       "                6335-02-cr                                              1\n",
       "                                                                     ... \n",
       "Worx            WX176L.9                                               61\n",
       "XtremepowerUS   61108-XP                                              145\n",
       "                61108-XP1                                              15\n",
       "                61109-XP                                               13\n",
       "Yescom          08PDH005-PD52CC-02                                     26\n",
       "Name: counter, Length: 409, dtype: int64"
      ]
     },
     "execution_count": 121,
     "metadata": {},
     "output_type": "execute_result"
    }
   ],
   "source": [
    "prices_df.groupby(['manufacturer', 'model'])['counter'].nunique()"
   ]
  },
  {
   "cell_type": "code",
   "execution_count": 52,
   "metadata": {},
   "outputs": [
    {
     "name": "stdout",
     "output_type": "stream",
     "text": [
      "platform\n",
      "['LOW' 'HD' 'WMT' 'AMZN']\n",
      "---------------------------------\n",
      "website\n",
      "['https://www.lowes.com/' 'https://www.homedepot.com/'\n",
      " 'https://www.walmart.com/' 'https://www.amazon.com/']\n",
      "---------------------------------\n",
      "date\n",
      "Many values\n",
      "---------------------------------\n",
      "zipcode\n",
      "[78722]\n",
      "---------------------------------\n",
      "rank\n",
      "[ 1.  2.  3.  4.  5.  6.  7.  8.  9. 10. 11. 12. 13. 14. 15. 16. 17. 18.\n",
      " 19. 20.  0. nan]\n",
      "---------------------------------\n",
      "page\n",
      "[ 1. nan  2.  3.]\n",
      "---------------------------------\n",
      "query\n",
      "Many values\n",
      "---------------------------------\n",
      "prod_id\n",
      "Many values\n",
      "---------------------------------\n",
      "upc\n",
      "Many values\n",
      "---------------------------------\n",
      "product\n",
      "Many values\n",
      "---------------------------------\n",
      "manufacturer\n",
      "Many values\n",
      "---------------------------------\n",
      "model\n",
      "Many values\n",
      "---------------------------------\n",
      "price\n",
      "Many values\n",
      "---------------------------------\n",
      "list_price\n",
      "Many values\n",
      "---------------------------------\n",
      "in_stock\n",
      "[ 1.  0. nan]\n",
      "---------------------------------\n",
      "max_qty\n",
      "Many values\n",
      "---------------------------------\n",
      "seller\n",
      "Many values\n",
      "---------------------------------\n",
      "arrives\n",
      "Many values\n",
      "---------------------------------\n",
      "shipping\n",
      "Many values\n",
      "---------------------------------\n",
      "shipping_price\n",
      "[  nan  0.    5.99  4.99 10.36  9.99 65.    6.11  6.49 11.06 10.61  8.77\n",
      "  5.5  11.12 19.99 15.77 14.99  5.44 17.37 12.99  8.64 12.1  34.95]\n",
      "---------------------------------\n",
      "shipping_options\n",
      "[nan  0.  1.  2.  3.  4.]\n",
      "---------------------------------\n",
      "store_stock\n",
      "[nan 'Free ship to store for pickup'\n",
      " 'Limited stock at Austin Mueller Airport' 'Limited stock at nearby store'\n",
      " 'In stock' 'Limited stock' 'Unknown' 'Out of stock'\n",
      " 'Unavailable at your store' 'Limited stock at Se Austin']\n",
      "---------------------------------\n",
      "store_address\n",
      "['S.E. Austin Lowes, 5510 South IH 35, Austin, TX'\n",
      " '1200 Barbara Jordan Blvd Suite 100, Austin, TX' nan\n",
      " '1030 Norwood Park Blvd, Austin, TX' '2525 W Anderson Ln, Austin, TX']\n",
      "---------------------------------\n",
      "store_zip\n",
      "[78722. 78723.    nan 78753. 78757.]\n",
      "---------------------------------\n",
      "store_price\n",
      "[  nan 19.83 29.64 35.   19.   30.   21.   24.84 99.   54.   48.88 69.\n",
      " 39.88 40.   25.   15.   26.88 94.   79.  ]\n",
      "---------------------------------\n",
      "weight\n",
      "Many values\n",
      "---------------------------------\n",
      "reviews\n",
      "Many values\n",
      "---------------------------------\n",
      "rating\n",
      "Many values\n",
      "---------------------------------\n",
      "quantity1\n",
      "Many values\n",
      "---------------------------------\n",
      "quantity2\n",
      "Many values\n",
      "---------------------------------\n",
      "quantity3\n",
      "[nan  6.  5.  3.  2. 19. 12.  8. 10.  1.  7. 14.  4. 18. 16. 15.  9. 13.\n",
      " 11. 17. 20.]\n",
      "---------------------------------\n",
      "quantity4\n",
      "[nan]\n",
      "---------------------------------\n",
      "quantity5\n",
      "[nan]\n",
      "---------------------------------\n",
      "ads\n",
      "[ 0.  1. nan]\n",
      "---------------------------------\n"
     ]
    }
   ],
   "source": [
    "for col in prices_df.columns:\n",
    "    print(col)\n",
    "    \n",
    "    if len(prices_df[col].unique()) <= 30:\n",
    "        print(prices_df[col].unique())\n",
    "    else:\n",
    "        print(\"Many values\")\n",
    "\n",
    "    print(\"---------------------------------\")"
   ]
  },
  {
   "cell_type": "code",
   "execution_count": 141,
   "metadata": {},
   "outputs": [
    {
     "data": {
      "text/plain": [
       "(0        170.000\n",
       " 1       1118.000\n",
       " 2         15.000\n",
       " 3        449.000\n",
       " 4        254.000\n",
       "           ...   \n",
       " 20524     39.000\n",
       " 20525        nan\n",
       " 20526        nan\n",
       " 20527    105.000\n",
       " 20528        nan\n",
       " Name: reviews, Length: 20529, dtype: float64,\n",
       " 0       4.818\n",
       " 1       4.721\n",
       " 2       4.533\n",
       " 3       4.800\n",
       " 4       4.882\n",
       "          ... \n",
       " 20524   4.100\n",
       " 20525     nan\n",
       " 20526     nan\n",
       " 20527   3.900\n",
       " 20528     nan\n",
       " Name: rating, Length: 20529, dtype: float64)"
      ]
     },
     "execution_count": 141,
     "metadata": {},
     "output_type": "execute_result"
    }
   ],
   "source": [
    "prices_df.reviews, prices_df.rating"
   ]
  },
  {
   "cell_type": "code",
   "execution_count": 142,
   "metadata": {},
   "outputs": [
    {
     "data": {
      "text/plain": [
       "array([2.0000e+00, 2.3000e+01, 0.0000e+00, 2.6000e+01, 6.0000e+00,\n",
       "       1.0000e+00, 3.0000e+00,        nan, 1.1000e+01, 4.0000e+00,\n",
       "       5.0000e+00, 1.0000e+01, 7.0000e+00, 1.6000e+01, 1.7000e+01,\n",
       "       1.5000e+01, 8.0000e+00, 1.8000e+01, 3.1000e+01, 2.8560e+03,\n",
       "       9.2200e+02, 5.7000e+02, 1.2600e+02, 2.9800e+02, 5.9000e+02,\n",
       "       7.6000e+01, 4.7800e+02, 6.6000e+02, 2.7760e+03, 3.2000e+01,\n",
       "       3.4000e+01, 4.5000e+01, 6.1700e+02, 4.7400e+02, 2.6900e+02,\n",
       "       1.2900e+02, 1.7200e+02, 1.1900e+02, 2.8000e+01, 1.8900e+02,\n",
       "       1.2000e+02, 2.0000e+01, 3.5000e+01, 1.4000e+01, 9.0000e+00,\n",
       "       1.2000e+01, 3.6000e+01, 3.0000e+01, 4.4000e+01, 2.7000e+01,\n",
       "       1.9000e+01, 2.8390e+03, 5.7600e+02, 6.3000e+01, 1.2100e+02,\n",
       "       8.4880e+03, 1.7100e+02, 5.5000e+01, 2.2000e+01, 2.1000e+01,\n",
       "       2.4000e+01, 2.9000e+01, 1.0000e+02, 5.0000e+01, 2.8310e+03,\n",
       "       9.8300e+02, 5.6400e+02, 5.9200e+02, 6.5700e+02, 5.7500e+02,\n",
       "       5.8000e+01, 4.7700e+02, 4.6000e+01, 8.4870e+03, 2.5800e+02,\n",
       "       1.3000e+01, 1.4500e+02, 5.8900e+02, 1.1700e+02, 7.3000e+01,\n",
       "       8.4940e+03, 3.5700e+02, 6.1800e+02, 4.2000e+01, 1.4400e+02,\n",
       "       9.8400e+02, 1.2800e+02, 6.1100e+02, 5.7400e+02, 1.0600e+02,\n",
       "       1.1200e+02, 7.0000e+01, 8.4790e+03, 2.5100e+02, 1.4300e+02,\n",
       "       5.5700e+02, 2.9400e+02, 1.2700e+02, 5.6900e+02, 1.0900e+02,\n",
       "       7.4000e+01, 1.8400e+02, 2.5000e+01, 2.8320e+03, 6.1500e+02,\n",
       "       3.9800e+02, 5.8000e+02, 1.1100e+02, 6.5000e+01, 8.4750e+03,\n",
       "       4.3000e+01, 9.8200e+02, 2.9500e+02, 1.3500e+02, 5.8600e+02,\n",
       "       6.0800e+02, 6.2000e+01, 8.4740e+03, 3.8000e+01, 3.3000e+01,\n",
       "       1.4100e+02, 2.8190e+03, 9.8100e+02, 5.8500e+02, 6.4700e+02,\n",
       "       2.5000e+03, 5.7800e+02, 4.7500e+02, 5.7000e+01, 2.2600e+02,\n",
       "       2.8120e+03, 1.2030e+03, 5.8200e+02, 5.5200e+02, 2.3670e+03,\n",
       "       5.1000e+01, 7.5000e+01, 3.9000e+01, 2.8080e+03, 1.1880e+03,\n",
       "       5.5100e+02, 2.3460e+03, 1.3400e+02, 2.8700e+02, 6.5600e+02,\n",
       "       4.7000e+01, 3.6200e+02, 3.9600e+02, 2.2400e+02, 4.0000e+01,\n",
       "       1.6600e+02, 2.3500e+02, 1.1600e+02, 7.1000e+01, 2.7920e+03,\n",
       "       1.1160e+03, 5.8400e+02, 5.4600e+02, 1.3300e+02, 2.8800e+02,\n",
       "       1.0980e+03, 2.0900e+02, 7.7000e+01, 7.7900e+02, 1.1110e+03,\n",
       "       9.8000e+02, 5.8100e+02, 2.3320e+03, 1.8300e+02, 1.0500e+02,\n",
       "       2.7870e+03, 1.0960e+03, 9.7800e+02, 2.3290e+03, 5.4000e+02,\n",
       "       4.7300e+02, 1.6100e+02, 2.7820e+03, 1.0490e+03, 9.7700e+02,\n",
       "       2.3260e+03, 5.3900e+02, 2.8600e+02, 1.0970e+03, 9.2000e+01,\n",
       "       6.1400e+02, 1.0380e+03, 2.3200e+03, 2.8500e+02, 1.0890e+03,\n",
       "       4.1000e+01, 4.7200e+02, 1.5100e+02, 4.8000e+01, 1.0110e+03,\n",
       "       2.7860e+03, 5.3300e+02, 1.1370e+03, 2.0600e+02, 1.3200e+02,\n",
       "       1.0400e+02, 7.2000e+01, 3.7800e+02, 6.0000e+01, 1.1330e+03,\n",
       "       5.6000e+01, 1.0100e+02, 9.9500e+02, 2.7850e+03, 9.7600e+02,\n",
       "       5.3200e+02, 3.3000e+02, 3.7500e+02, 2.7800e+03, 9.7500e+02,\n",
       "       1.1280e+03, 2.1700e+02, 3.9500e+02, 2.7790e+03, 3.2900e+02,\n",
       "       2.1300e+02, 3.6300e+02, 2.2200e+02, 1.0650e+03, 2.7730e+03,\n",
       "       9.7300e+02, 2.3100e+03, 5.8300e+02, 5.2300e+02, 1.2200e+02,\n",
       "       1.1250e+03, 4.7000e+02, 2.7590e+03, 9.7100e+02, 2.3090e+03,\n",
       "       5.2200e+02, 3.2700e+02, 2.1100e+02, 8.7000e+01, 4.8500e+02,\n",
       "       5.3000e+01, 1.1200e+03, 8.8000e+01, 2.2100e+02, 2.7580e+03,\n",
       "       9.7000e+02, 2.3030e+03, 1.1230e+03, 2.9900e+02, 1.5000e+02,\n",
       "       8.6000e+01, 2.2300e+02, 6.1300e+02, 2.7510e+03, 2.3020e+03,\n",
       "       5.8800e+02, 1.1410e+03, 6.9200e+02, 2.1500e+02, 8.5000e+01,\n",
       "       6.9000e+01, 3.7300e+02, 2.7410e+03, 9.6900e+02, 2.8400e+02,\n",
       "       6.6000e+01, 2.0300e+02, 3.9400e+02, 6.1000e+02, 8.3000e+01,\n",
       "       3.7200e+02, 2.7340e+03, 9.6800e+02, 1.1500e+02, 1.1680e+03,\n",
       "       2.0800e+02, 8.2000e+01, 4.9700e+02, 1.1690e+03, 6.0900e+02,\n",
       "       8.0000e+01, 3.7000e+02, 2.7200e+03, 1.1940e+03, 2.1000e+02,\n",
       "       7.9000e+01, 2.2890e+03, 1.9100e+02, 2.6870e+03, 1.0610e+03,\n",
       "       9.4800e+02, 1.1870e+03, 2.1200e+02, 7.7800e+02, 2.6950e+03,\n",
       "       9.4700e+02, 4.7900e+02, 2.2800e+03, 5.7900e+02, 1.2450e+03,\n",
       "       7.7700e+02, 2.6760e+03, 2.2780e+03, 1.2470e+03, 2.8200e+02,\n",
       "       2.4500e+02, 1.0550e+03, 9.5100e+02, 4.6800e+02, 1.0700e+02,\n",
       "       1.1790e+03, 3.8100e+02, 2.4400e+02, 6.8000e+01, 9.5800e+02,\n",
       "       1.0540e+03, 4.6000e+02, 1.1780e+03, 2.8000e+02, 1.7600e+02,\n",
       "       2.6710e+03, 9.5600e+02, 1.0510e+03, 4.5300e+02, 2.2710e+03,\n",
       "       1.1770e+03, 2.4300e+02, 3.8000e+02, 2.2500e+02, 2.6550e+03,\n",
       "       9.5400e+02, 1.0500e+03, 4.5400e+02, 1.9500e+02, 2.6490e+03,\n",
       "       1.0480e+03, 1.0300e+02, 1.9300e+02, 3.3500e+02, 1.0460e+03,\n",
       "       4.4400e+02, 5.7700e+02, 1.1730e+03, 1.9200e+02, 2.6300e+03,\n",
       "       9.5300e+02, 1.0450e+03, 4.4000e+02, 9.8000e+01, 1.1670e+03,\n",
       "       3.7900e+02, 1.9000e+02, 2.6190e+03, 9.5200e+02, 1.8800e+02,\n",
       "       6.7000e+01, 4.2900e+02, 2.2580e+03, 1.8700e+02, 2.6090e+03,\n",
       "       9.6400e+02, 1.0440e+03, 4.2800e+02, 9.1000e+01, 1.1570e+03,\n",
       "       3.7700e+02, 3.9900e+02, 8.6700e+02, 1.8100e+02, 1.0420e+03,\n",
       "       4.2500e+02, 1.1520e+03, 6.4000e+01, 2.6010e+03, 1.0370e+03,\n",
       "       2.2460e+03, 1.7700e+02, 2.5950e+03, 1.0340e+03, 4.2400e+02,\n",
       "       2.2360e+03, 8.4000e+01, 4.6900e+02, 1.6300e+02, 2.4100e+02,\n",
       "       2.5940e+03, 8.0100e+02, 4.2200e+02, 2.1870e+03, 2.2320e+03,\n",
       "       1.1600e+03, 4.5050e+03, 1.6400e+02, 2.4200e+02, 3.7000e+01,\n",
       "       2.5840e+03, 1.0310e+03, 4.1300e+02, 2.2310e+03, 2.4600e+02,\n",
       "       1.5517e+04, 2.3900e+02, 6.3200e+02, 2.5730e+03, 9.8800e+02,\n",
       "       4.1200e+02, 5.4000e+01, 1.1830e+03, 2.0200e+02, 1.5968e+04,\n",
       "       2.3800e+02, 1.8600e+02, 1.8500e+02, 1.6800e+02, 2.2200e+03,\n",
       "       1.1850e+03, 2.6500e+02, 1.5746e+04, 9.5000e+01, 4.9000e+01,\n",
       "       2.5630e+03, 3.1700e+02, 1.0170e+03, 1.5739e+04, 2.1400e+02,\n",
       "       2.3600e+02, 3.1500e+02, 2.2120e+03, 6.1000e+01, 2.5570e+03,\n",
       "       1.1820e+03, 1.5736e+04, 7.9000e+02, 2.2100e+03, 3.1000e+02,\n",
       "       1.0140e+03, 2.6400e+02, 2.6100e+02, 7.9600e+02, 1.5729e+04,\n",
       "       2.5410e+03, 2.6300e+02, 2.5390e+03, 2.1950e+03, 3.0800e+02,\n",
       "       1.0080e+03, 1.1760e+03, 3.3300e+02, 2.5300e+03, 9.9200e+02,\n",
       "       1.1740e+03, 1.4800e+02, 1.5600e+02, 9.9100e+02, 2.7100e+02,\n",
       "       1.3800e+02, 2.5120e+03, 9.9300e+02, 3.0000e+02, 9.9700e+02,\n",
       "       2.7500e+02, 1.4600e+02, 1.9900e+02, 2.5010e+03, 9.8900e+02,\n",
       "       1.1810e+03, 2.5060e+03, 2.5900e+02, 2.5030e+03, 7.8000e+01,\n",
       "       1.1800e+03, 1.2360e+03, 2.0000e+02, 3.3400e+02, 1.5708e+04,\n",
       "       2.4990e+03, 9.8700e+02, 2.5000e+02, 6.8500e+02, 1.5707e+04,\n",
       "       2.3700e+02, 6.7700e+02, 1.3100e+02, 2.4950e+03, 9.8600e+02,\n",
       "       5.2000e+01, 2.4920e+03, 1.4700e+02, 2.4870e+03, 5.6800e+02,\n",
       "       2.8300e+02, 1.5688e+04, 8.0200e+02, 2.4890e+03, 5.6700e+02,\n",
       "       2.9200e+02, 9.9400e+02, 8.0900e+02, 2.0700e+02, 3.8400e+02,\n",
       "       2.4900e+02, 5.6600e+02, 9.4000e+02, 1.6200e+02, 1.5400e+02,\n",
       "       1.5680e+04, 9.3900e+02, 1.7000e+02, 2.1800e+02, 3.8500e+02,\n",
       "       5.9000e+01, 9.6100e+02, 3.3600e+02, 1.5668e+04, 2.2900e+02,\n",
       "       2.5130e+03, 9.5700e+02, 2.0930e+03, 2.0500e+02, 9.4400e+02,\n",
       "       1.4320e+03, 1.1000e+02, 2.3400e+02, 1.9400e+02, 2.0820e+03,\n",
       "       2.0400e+02, 9.3400e+02, 8.0800e+02, 3.8200e+02, 1.5300e+02,\n",
       "       2.2800e+02, 2.5070e+03, 2.0100e+02, 1.5664e+04, 2.6700e+02,\n",
       "       2.0760e+03, 1.9800e+02, 2.0720e+03, 1.9700e+02, 1.5666e+04,\n",
       "       1.0000e+03, 9.3100e+02, 2.0660e+03, 2.1600e+02, 1.5645e+04,\n",
       "       9.2000e+02, 1.6700e+02, 2.5110e+03, 2.0410e+03, 9.8500e+02,\n",
       "       9.4200e+02, 5.7300e+02, 1.5639e+04, 2.3300e+02, 9.2400e+02,\n",
       "       1.5200e+02, 2.4940e+03, 1.7500e+02, 5.7100e+02, 2.4190e+03,\n",
       "       2.0020e+03, 9.2700e+02, 2.8100e+02, 6.4100e+02, 1.5482e+04,\n",
       "       2.4000e+02, 1.9900e+03, 9.1900e+02, 2.7900e+02, 1.5480e+04,\n",
       "       2.3890e+03, 9.1300e+02, 1.9860e+03, 9.3200e+02, 1.4350e+03,\n",
       "       2.3100e+02, 9.1200e+02, 1.9840e+03, 1.3600e+02, 5.7200e+02,\n",
       "       1.4300e+03, 2.3760e+03, 1.9720e+03, 1.5479e+04, 2.3200e+02,\n",
       "       2.1270e+03, 1.7890e+03, 8.5100e+02, 5.6200e+02, 4.4300e+02,\n",
       "       1.0020e+03, 1.5044e+04, 1.5900e+02, 4.3300e+02, 1.7810e+03,\n",
       "       1.0200e+02, 1.4691e+04, 1.8200e+02, 8.4900e+02, 4.4200e+02,\n",
       "       9.4000e+01, 6.2900e+02, 1.5500e+02, 4.1900e+02, 1.7720e+03,\n",
       "       5.5500e+02, 1.4562e+04, 1.0040e+03, 2.1130e+03, 8.4600e+02,\n",
       "       1.0030e+03, 6.0700e+02, 2.1900e+02, 5.2400e+02, 9.6000e+01,\n",
       "       1.4561e+04, 2.0830e+03, 1.0750e+03, 5.2100e+02, 4.4100e+02,\n",
       "       1.0560e+03, 6.0400e+02, 1.6900e+02, 7.9800e+02, 5.1300e+02,\n",
       "       5.5600e+02, 2.0670e+03, 1.0190e+03, 5.1000e+02, 2.2000e+02,\n",
       "       4.3900e+02, 6.1200e+02, 6.2500e+02, 6.0100e+02, 7.9700e+02,\n",
       "       8.9000e+01, 1.4900e+02, 4.2000e+02, 5.0600e+02, 1.4553e+04,\n",
       "       6.0200e+02, 7.9400e+02, 9.0000e+01, 5.0200e+02, 6.0500e+02,\n",
       "       4.3700e+02, 1.4551e+04, 6.2700e+02, 4.3400e+02, 9.6600e+02,\n",
       "       4.9400e+02, 1.4549e+04, 6.2600e+02, 3.3100e+02, 4.8900e+02,\n",
       "       1.4545e+04, 7.9500e+02, 4.3200e+02, 1.4200e+02, 9.9000e+01,\n",
       "       4.8100e+02, 1.4540e+04, 7.9300e+02, 9.1500e+02, 1.0050e+03,\n",
       "       5.9700e+02, 4.3600e+02, 5.9800e+02, 1.4541e+04, 7.9200e+02,\n",
       "       4.3000e+02, 1.4539e+04, 5.9500e+02, 2.5300e+02, 1.4630e+03,\n",
       "       5.1700e+02, 8.1500e+02, 6.5400e+02, 8.1600e+02, 6.5500e+02,\n",
       "       1.4527e+04, 2.4800e+02, 1.4580e+03, 8.1400e+02, 1.1800e+02,\n",
       "       5.9300e+02, 1.3000e+02, 4.0300e+02, 2.5400e+02, 1.4519e+04,\n",
       "       5.8700e+02, 4.0200e+02, 8.1000e+01, 7.9100e+02, 3.8600e+02,\n",
       "       2.0280e+03, 1.4490e+03, 1.0100e+03, 1.4507e+04, 2.0070e+03,\n",
       "       1.4450e+03, 8.0700e+02, 5.5800e+02, 1.4496e+04, 1.1400e+02,\n",
       "       2.5200e+02, 1.9870e+03, 1.4491e+04, 1.5700e+02, 3.1400e+02,\n",
       "       1.9820e+03, 5.4800e+02, 4.0500e+02, 1.8170e+03, 5.4700e+02,\n",
       "       1.4461e+04, 5.0500e+02, 3.3200e+02, 2.7600e+02, 1.9060e+03,\n",
       "       1.4310e+03, 7.8400e+02, 1.4467e+04, 5.3800e+02, 5.4400e+02,\n",
       "       1.4442e+04, 1.8580e+03, 1.4190e+03, 7.6700e+02, 4.1400e+02,\n",
       "       7.6000e+02, 5.4300e+02, 1.4417e+04, 5.1400e+02, 4.0100e+02,\n",
       "       1.5570e+03, 1.4416e+04, 5.1500e+02, 1.9600e+02, 1.1300e+02,\n",
       "       3.0700e+02, 1.4030e+03, 7.5200e+02, 1.4390e+04, 4.9000e+02,\n",
       "       7.8800e+02, 1.5930e+03, 1.3610e+03, 9.3800e+02, 7.0600e+02,\n",
       "       4.1600e+02, 4.2100e+02, 2.4700e+02, 7.8500e+02, 5.6300e+02,\n",
       "       1.4340e+04, 3.0100e+02, 9.7000e+01, 1.5770e+03, 9.2800e+02,\n",
       "       5.3700e+02, 7.8200e+02, 4.1700e+02, 1.5490e+03, 1.4295e+04,\n",
       "       1.5270e+03, 9.1600e+02, 2.5700e+02, 1.5070e+03, 5.3400e+02,\n",
       "       1.4273e+04, 1.4540e+03, 1.7900e+02, 4.1000e+02, 1.4244e+04,\n",
       "       1.5140e+03, 9.0900e+02, 2.7700e+02, 1.5130e+03, 9.0500e+02,\n",
       "       2.7000e+02, 1.4226e+04, 1.4970e+03, 2.6200e+02, 1.4225e+04,\n",
       "       1.2580e+03, 6.4300e+02, 2.6000e+02, 1.4187e+04, 1.4760e+03,\n",
       "       5.3100e+02, 1.4640e+03, 1.4163e+04, 1.7400e+02, 1.7370e+03,\n",
       "       1.4440e+03, 9.3700e+02, 1.1860e+03, 2.5600e+02, 1.0800e+02,\n",
       "       1.2480e+03, 8.9000e+02, 1.1490e+03, 5.1600e+02, 6.2100e+02,\n",
       "       7.6300e+02, 1.4045e+04, 5.3000e+02, 3.2500e+02, 8.8200e+02,\n",
       "       4.0000e+02, 8.5500e+02, 8.8500e+02, 5.9100e+02, 7.5000e+02,\n",
       "       5.2700e+02, 8.4400e+02, 5.0700e+02, 1.3887e+04, 9.7900e+02,\n",
       "       1.3861e+04, 3.1900e+02, 8.1700e+02, 5.0800e+02, 5.0000e+02,\n",
       "       7.2000e+02, 1.3159e+04, 2.9700e+02, 8.3500e+02, 7.1100e+02,\n",
       "       2.3000e+02, 1.7800e+02, 4.8200e+02, 8.2600e+02, 7.1200e+02,\n",
       "       6.4000e+02, 8.2800e+02, 5.0400e+02, 6.3800e+02, 1.3800e+04,\n",
       "       2.7200e+02, 4.4800e+02, 8.3000e+02, 1.3797e+04, 7.0700e+02,\n",
       "       4.6600e+02, 1.3757e+04, 2.7800e+02, 8.4500e+02, 8.2700e+02,\n",
       "       4.9900e+02, 7.0300e+02, 1.3721e+04, 5.1100e+02, 2.2700e+02,\n",
       "       2.7300e+02, 8.4100e+02, 8.1300e+02, 4.9200e+02, 6.9700e+02,\n",
       "       3.6900e+02, 1.3942e+04, 1.7300e+02, 8.3400e+02, 8.3100e+02,\n",
       "       8.2300e+02, 4.2300e+02])"
      ]
     },
     "execution_count": 142,
     "metadata": {},
     "output_type": "execute_result"
    }
   ],
   "source": [
    "# Can check Eric's GitHub for quantity definitions.\n",
    "\n",
    "# Number of sellers for Amazon?\n",
    "prices_df.quantity1.unique()\n",
    "\n",
    "# Limited number of stock for Amazon?\n",
    "prices_df.quantity3.unique()"
   ]
  },
  {
   "cell_type": "code",
   "execution_count": null,
   "metadata": {},
   "outputs": [],
   "source": [
    "# Ads. 1 means that it was sponsered, 0 means it wasn't promoted"
   ]
  },
  {
   "cell_type": "code",
   "execution_count": null,
   "metadata": {},
   "outputs": [],
   "source": [
    "# No UPC on Amazon, hard to match these to Amazon IDs\n"
   ]
  },
  {
   "cell_type": "code",
   "execution_count": 127,
   "metadata": {},
   "outputs": [
    {
     "data": {
      "image/png": "[encoded data removed]",
      "text/plain": [
       "<Figure size 432x288 with 1 Axes>"
      ]
     },
     "metadata": {
      "needs_background": "light"
     },
     "output_type": "display_data"
    }
   ],
   "source": [
    "# Prices vs List Prices scatter\n",
    "\n",
    "plt.scatter(prices_df.price, prices_df.list_price)\n",
    "plt.show()"
   ]
  },
  {
   "cell_type": "code",
   "execution_count": 130,
   "metadata": {},
   "outputs": [
    {
     "data": {
      "text/plain": [
       "Index(['platform', 'website', 'date', 'zipcode', 'rank', 'page', 'query',\n",
       "       'prod_id', 'upc', 'product', 'manufacturer', 'model', 'price',\n",
       "       'list_price', 'in_stock', 'max_qty', 'seller', 'arrives', 'shipping',\n",
       "       'shipping_price', 'shipping_options', 'store_stock', 'store_address',\n",
       "       'store_zip', 'store_price', 'weight', 'reviews', 'rating', 'quantity1',\n",
       "       'quantity2', 'quantity3', 'quantity4', 'quantity5', 'ads', 'counter'],\n",
       "      dtype='object')"
      ]
     },
     "execution_count": 130,
     "metadata": {},
     "output_type": "execute_result"
    }
   ],
   "source": [
    "prices_df.columns"
   ]
  },
  {
   "cell_type": "code",
   "execution_count": 133,
   "metadata": {},
   "outputs": [
    {
     "data": {
      "text/plain": [
       "(platform\n",
       " AMZN   19.692\n",
       " HD        nan\n",
       " LOW       nan\n",
       " WMT    11.682\n",
       " Name: max_qty, dtype: float64,\n",
       " platform\n",
       " AMZN   80.000\n",
       " HD        nan\n",
       " LOW       nan\n",
       " WMT    12.000\n",
       " Name: max_qty, dtype: float64)"
      ]
     },
     "execution_count": 133,
     "metadata": {},
     "output_type": "execute_result"
    }
   ],
   "source": [
    "prices_df.groupby('platform')['max_qty'].mean(), prices_df.groupby('platform')['max_qty'].max()"
   ]
  },
  {
   "cell_type": "code",
   "execution_count": 138,
   "metadata": {},
   "outputs": [
    {
     "data": {
      "text/plain": [
       "array([nan, 'Free ship to store for pickup',\n",
       "       'Limited stock at Austin Mueller Airport',\n",
       "       'Limited stock at nearby store', 'In stock', 'Limited stock',\n",
       "       'Unknown', 'Out of stock', 'Unavailable at your store',\n",
       "       'Limited stock at Se Austin'], dtype=object)"
      ]
     },
     "execution_count": 138,
     "metadata": {},
     "output_type": "execute_result"
    }
   ],
   "source": [
    "prices_df['store_stock'].unique()"
   ]
  },
  {
   "cell_type": "code",
   "execution_count": 135,
   "metadata": {},
   "outputs": [
    {
     "data": {
      "text/plain": [
       "array(['Amazon.com', nan, 'MaxTool',\n",
       "       '\\n                                —\\n                            ',\n",
       "       'CPO Outlets', 'Baystate Tool Supply', 'TheHardwareSource',\n",
       "       'SHANESHOP', 'JBTools', 'Neandertool', 'E-Com Supply',\n",
       "       'Garland Home Center', 'TwinBargains', 'Amazon Warehouse',\n",
       "       'Aplus Quality', 'ExpressUSA.', 'gifts4utlmglobal',\n",
       "       'Sunbelt Products', 'Masterworkstool', 'KimoUS', 'KIMODirect',\n",
       "       'Teccpo Power US', 'GreatStar Tools', 'dirtcheapsellerms',\n",
       "       'Toolman-usa', 'Shop J&W', 'mantianxing-US', 'dollar-a-day',\n",
       "       'AB Promise', '1sso', 'Vera Tools', 'dabojin', 'AMT Pro',\n",
       "       'GALAX  PRO', 'Ferrigan Enterprises', 'Glory-PTL', 'Simple Works',\n",
       "       'neatbuys', 'Acme Tools', '3S Distributing', 'Bomb Brands ✔',\n",
       "       'Hardware Sales Inc.', 'Essex Technology Group', 'JaxPawnII',\n",
       "       'Other Fellow', 'RLT-Source', 'Naturally Nature', 'by Holikme',\n",
       "       'Hi-Spec Products, Inc.', 'Three Lovely Princesses', 'RFBDirect',\n",
       "       'Tools And More', 'DISCOUNTTOOLMALL', 'Team FTO Store',\n",
       "       'CommonGoods LLC', 'Our Family Bargains', 'Moan Shop',\n",
       "       'Universal Discounts', 'P&Q Enterprises', 'Rover Mall',\n",
       "       'Caswell Adventures', 'Find it at the Bay', 'Capital Supply',\n",
       "       'BTG Seller, LLC', 'Kings Bargains', 'Jj&Co', 'Tools Plus More',\n",
       "       'Tool Time Distribution', 'BEST PRICE MOBILE', 'escorp',\n",
       "       'OverstockedRetail', 'Posh Shop and Save', 'Trader Chucks LLC',\n",
       "       'STL PRO, Inc.', 'Design Tactics', 'Newtoolsforyou',\n",
       "       'Click Surf Shop', 'PaintingSBS', 'Ibuysellbarter', 'Chaining',\n",
       "       'OTL', 'The Shopping Place', 'Top STAAT Inc.', 'Primum 19',\n",
       "       'etoolguy', 'Kardin', 'Handle With Care', 'GTY Enterprises',\n",
       "       'Pro Source Supply', 'AAA-RHS Marketing', 'Deuces Wild',\n",
       "       'Amazing Warehouse Deal', 'houssion', 'Angel Seller',\n",
       "       'GP Tools Direct', 'GreathychikaNA', 'DecoxUS', 'JT Supply Co.',\n",
       "       'Super  Bargains', 'usa_accessories', 'Davids Tools',\n",
       "       'Skyline Studio', 'Famatronix llc', 'Chans eStore Ltd. Co.',\n",
       "       'JjsFactoryDirect', 'BayBeautyShop', 'Our Pampered Home',\n",
       "       'Venditus', 'Electronic.Depot', 'Always Open', 'J & K Sellers Inc',\n",
       "       'MagnaTools', 'cellulartech', '19th Hole Deals', 'Grit Inc.',\n",
       "       'Pro Click', 'ToolsAppetite', 'EnterpriseGroup',\n",
       "       'Hollywood Nights', 'Healthlabs', 'Home and Trail', 'GoodGrabs',\n",
       "       'HardwareUSA', 'Teeno Store', 'AvlStore', '1TopTools',\n",
       "       'TOTALELEKTRIK', 'Professional Products Inc', 'LIVEBEAR',\n",
       "       'Sherman Bodega', 'MAIBERG Tools', 'Capri Universal',\n",
       "       'Tooleader Direct', 'SOL shop', 'Anewbiz_1', 'Toolup', 'B&KSUPPLY',\n",
       "       'Yes Pawn', 'VM Express', 'American Safety Distributors',\n",
       "       'Absolute Lifestyle', 'Himbol', 'pro100jon', 'Trader Chucks',\n",
       "       'Bargain Ben', 'C-MOTEL', 'Autojare Company Limited',\n",
       "       'Tool Town Store', '1-800 ToolRepair', 'Fleet Tool',\n",
       "       'Limitless Supplements LLC', 'Intro Gallery', 'Industrial Tools',\n",
       "       'JUEMEL', 'Holikme Store', 'MOUNT VISION LLC', 'LANKE INTERNET',\n",
       "       'S-LONG Tools', 'CoastalTool', 'HiwareDirect',\n",
       "       'Slicktron TM DJI Dealer Houston', 'TYH Sales', 'Pro-Distributing',\n",
       "       'The Bargain Empire 1', 'alexkarpay', 'Safe Buy Co.',\n",
       "       'We Save You Cash', 'Just Prime Tools', 'Broward Exchange',\n",
       "       'Sun Country Deals', 'Anthony & Ion',\n",
       "       'Moms Goods and Stuff (Serial Numbers Recorded)',\n",
       "       'American-Mechanic', 'We Sell Only To You', 'Talentafterthought',\n",
       "       'hochstern', 'Tool Realm Inc.', 'East Coast Vendors',\n",
       "       'ACDelco Tools 🛠️', 'WAKYME', 'DistroTech', 'Shop Well',\n",
       "       'Lifestyle by Focus', 'Buckeye Tool Supply',\n",
       "       'PowerToolReplacementParts', 'Daily_Discount_Dealz',\n",
       "       'WONDER MASTER-US', 'BeautyParadise', 'Supply Harbor',\n",
       "       'valueadded', 'mjentertainment', 'VDO-Gadgets', 'these sellers',\n",
       "       'Boilard Tools', 'MIA-s', 'Household-us', 'HDD Shop',\n",
       "       'LasVegasSurplus', 'BEISHENG STORE', 'TopRated2020',\n",
       "       'ShowTimeTools', 'GoodStockShop', 'yuhangUS', 'CSW Official Store',\n",
       "       'Mazgear', 'Jason Murphy', 'MajorSavings2You'], dtype=object)"
      ]
     },
     "execution_count": 135,
     "metadata": {},
     "output_type": "execute_result"
    }
   ],
   "source": [
    "prices_df[prices_df['platform']=='AMZN'].seller.unique()"
   ]
  },
  {
   "cell_type": "code",
   "execution_count": 55,
   "metadata": {},
   "outputs": [
    {
     "data": {
      "image/png": "[encoded data removed]",
      "text/plain": [
       "<Figure size 432x288 with 1 Axes>"
      ]
     },
     "metadata": {
      "needs_background": "light"
     },
     "output_type": "display_data"
    }
   ],
   "source": [
    "plt.plot(prices_df.shipping_price)\n",
    "plt.show()"
   ]
  },
  {
   "cell_type": "code",
   "execution_count": 42,
   "metadata": {},
   "outputs": [
    {
     "data": {
      "text/plain": [
       "array(['LOW', 'HD', 'WMT', 'AMZN'], dtype=object)"
      ]
     },
     "execution_count": 42,
     "metadata": {},
     "output_type": "execute_result"
    }
   ],
   "source": [
    "prices_df.platform.unique()"
   ]
  },
  {
   "cell_type": "code",
   "execution_count": 58,
   "metadata": {},
   "outputs": [
    {
     "data": {
      "text/plain": [
       "0    2.000\n",
       "1   23.000\n",
       "2    0.000\n",
       "3   26.000\n",
       "Name: quantity1, dtype: float64"
      ]
     },
     "execution_count": 58,
     "metadata": {},
     "output_type": "execute_result"
    }
   ],
   "source": [
    "prices_df.quantity1.head(4)"
   ]
  },
  {
   "cell_type": "code",
   "execution_count": 59,
   "metadata": {},
   "outputs": [
    {
     "data": {
      "text/plain": [
       "0   0.000\n",
       "1   0.000\n",
       "2   0.000\n",
       "3   1.000\n",
       "Name: quantity2, dtype: float64"
      ]
     },
     "execution_count": 59,
     "metadata": {},
     "output_type": "execute_result"
    }
   ],
   "source": [
    "prices_df.quantity2.head(4)"
   ]
  },
  {
   "cell_type": "code",
   "execution_count": 60,
   "metadata": {},
   "outputs": [
    {
     "data": {
      "text/plain": [
       "0   nan\n",
       "1   nan\n",
       "2   nan\n",
       "3   nan\n",
       "Name: quantity3, dtype: float64"
      ]
     },
     "execution_count": 60,
     "metadata": {},
     "output_type": "execute_result"
    }
   ],
   "source": [
    "prices_df.quantity3.head(4)"
   ]
  },
  {
   "cell_type": "code",
   "execution_count": 61,
   "metadata": {},
   "outputs": [
    {
     "data": {
      "text/plain": [
       "0   nan\n",
       "1   nan\n",
       "2   nan\n",
       "3   nan\n",
       "Name: quantity4, dtype: float64"
      ]
     },
     "execution_count": 61,
     "metadata": {},
     "output_type": "execute_result"
    }
   ],
   "source": [
    "prices_df.quantity4.head(4)"
   ]
  },
  {
   "cell_type": "code",
   "execution_count": 62,
   "metadata": {},
   "outputs": [
    {
     "data": {
      "text/plain": [
       "0   nan\n",
       "1   nan\n",
       "2   nan\n",
       "3   nan\n",
       "Name: quantity5, dtype: float64"
      ]
     },
     "execution_count": 62,
     "metadata": {},
     "output_type": "execute_result"
    }
   ],
   "source": [
    "prices_df.quantity5.head(4)"
   ]
  }
 ],
 "metadata": {
  "kernelspec": {
   "display_name": "Python 3",
   "language": "python",
   "name": "python3"
  },
  "language_info": {
   "codemirror_mode": {
    "name": "ipython",
    "version": 3
   },
   "file_extension": ".py",
   "mimetype": "text/x-python",
   "name": "python",
   "nbconvert_exporter": "python",
   "pygments_lexer": "ipython3",
   "version": "3.6.8"
  }
 },
 "nbformat": 4,
 "nbformat_minor": 4
}
